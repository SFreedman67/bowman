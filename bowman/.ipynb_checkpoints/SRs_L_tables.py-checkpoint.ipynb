{
 "cells": [
  {
   "cell_type": "code",
   "execution_count": 1,
   "metadata": {
    "scrolled": true
   },
   "outputs": [],
   "source": [
    "import context"
   ]
  },
  {
   "cell_type": "code",
   "execution_count": 2,
   "metadata": {},
   "outputs": [],
   "source": [
    "from bowman import triangulation\n",
    "from bowman import polygon\n",
    "import multiprocessing as mp"
   ]
  },
  {
   "cell_type": "code",
   "execution_count": 5,
   "metadata": {},
   "outputs": [],
   "source": [
    "def get_sr(d):\n",
    "    X = triangulation.Triangulation.ronen_l(d)\n",
    "    try:\n",
    "        f = X.generators_veech\n",
    "    except TypeError:\n",
    "        print(f\"{d} didn't work\")\n",
    "        return 0\n",
    "\n",
    "    xmin = min(edge.start.u.value for edge in f.boundary if edge.start != oo)\n",
    "    xmax = max(edge.start.u.value for edge in f.boundary if edge.start != oo)\n",
    "    ymax = xmax - xmin\n",
    "\n",
    "    SRs = []\n",
    "    for _ in range(500):\n",
    "        x0 = RR(uniform(xmin, xmax)).nearby_rational(max_error=0.000001)\n",
    "        y0 = RR(uniform(0, ymax)).nearby_rational(max_error=0.000001)\n",
    "        p = polygon.Point(x0, y0 ** 2)\n",
    "        for idr in f.idrs:\n",
    "            if idr.contains_point(p):\n",
    "                m = sage.all.matrix([[1, x0], [0, y0]])\n",
    "                X_sheared = idr.triangulation.apply_matrix(m)\n",
    "                length_systole = min([RR(edge.norm()) for tri in X_sheared.triangles for edge in tri])\n",
    "                SRs.append(length_systole ** 2 / RR(X_sheared.area))\n",
    "    SR_avg = sum(SRs) / len(SRs)\n",
    "    print(f\"{d}, {SR_avg}\")\n",
    "    return SR_avg"
   ]
  },
  {
   "cell_type": "code",
   "execution_count": null,
   "metadata": {
    "scrolled": true
   },
   "outputs": [
    {
     "name": "stdout",
     "output_type": "stream",
     "text": [
      "100, 0.0534625824656424\n",
      "104, 0.0506887086200410\n",
      "108, 0.0499945482930127\n",
      "112, 0.0485104178645415\n",
      "116, 0.0475291688177258\n",
      "120, 0.0449237472470296\n",
      "124, 0.0457760091532058\n",
      "101, 0.0725088574019961\n",
      "121, 0.0641300419797475\n",
      "105, 0.0744320695906086\n",
      "113, 0.0711341924303980\n",
      "109, 0.0735535260325636\n",
      "117, 0.0698810640916560\n",
      "125, 0.0678838311638582\n",
      "128, 0.0374320782927197\n",
      "132, 0.0409626432454606\n",
      "144, 0.0386909987242997\n",
      "136, 0.0401688850754327\n",
      "129, 0.0650103772858809\n",
      "140, 0.0356662942022502\n",
      "148, 0.0384105532946396\n",
      "137, 0.0612102397868229\n",
      "145, 0.0592428478834117\n",
      "133, 0.0637020983863822\n",
      "152, 0.0339567823263286\n",
      "141, 0.0559591290678702\n",
      "156, 0.0358180360991757\n",
      "153, 0.0578979977604556\n"
     ]
    }
   ],
   "source": [
    "cpu_count = int(mp.cpu_count() - 1)\n",
    "discriminants = [d for d in range(148, 200) if d % 4 in {0, 1}]\n",
    "with mp.Pool(processes=cpu_count) as pool:\n",
    "    result = pool.map(get_sr, discriminants)\n",
    "    pool.close()\n",
    "    pool.join()"
   ]
  },
  {
   "cell_type": "code",
   "execution_count": null,
   "metadata": {},
   "outputs": [],
   "source": [
    "list(zip(discriminants, result))"
   ]
  },
  {
   "cell_type": "code",
   "execution_count": null,
   "metadata": {},
   "outputs": [],
   "source": []
  }
 ],
 "metadata": {
  "kernelspec": {
   "display_name": "SageMath 9.0",
   "language": "sage",
   "name": "sagemath"
  },
  "language_info": {
   "codemirror_mode": {
    "name": "ipython",
    "version": 3
   },
   "file_extension": ".py",
   "mimetype": "text/x-python",
   "name": "python",
   "nbconvert_exporter": "python",
   "pygments_lexer": "ipython3",
   "version": "3.7.3"
  }
 },
 "nbformat": 4,
 "nbformat_minor": 2
}
