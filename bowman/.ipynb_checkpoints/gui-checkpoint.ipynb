{
 "cells": [
  {
   "cell_type": "code",
   "execution_count": 25,
   "metadata": {},
   "outputs": [],
   "source": [
    "from context import bowman"
   ]
  },
  {
   "cell_type": "code",
   "execution_count": 26,
   "metadata": {},
   "outputs": [],
   "source": [
    "import bowman.triangulation as triangulation\n",
    "import bowman.octagon as octagon"
   ]
  },
  {
   "cell_type": "code",
   "execution_count": 27,
   "metadata": {},
   "outputs": [],
   "source": [
    "reg_oct = triangulation.Triangulation.regular_octagon()"
   ]
  },
  {
   "cell_type": "code",
   "execution_count": 28,
   "metadata": {},
   "outputs": [
    {
     "ename": "AttributeError",
     "evalue": "'FundDom' object has no attribute 'plot'",
     "output_type": "error",
     "traceback": [
      "\u001b[0;31m---------------------------------------------------------------------------\u001b[0m",
      "\u001b[0;31mAttributeError\u001b[0m                            Traceback (most recent call last)",
      "\u001b[0;32m<ipython-input-28-26b17ae2f7b3>\u001b[0m in \u001b[0;36m<module>\u001b[0;34m()\u001b[0m\n\u001b[1;32m      1\u001b[0m \u001b[0mreg_oct\u001b[0m\u001b[0;34m.\u001b[0m\u001b[0midr\u001b[0m\u001b[0;34m.\u001b[0m\u001b[0mplot\u001b[0m\u001b[0;34m(\u001b[0m\u001b[0;34m)\u001b[0m\u001b[0;34m\u001b[0m\u001b[0;34m\u001b[0m\u001b[0m\n\u001b[0;32m----> 2\u001b[0;31m \u001b[0mreg_oct\u001b[0m\u001b[0;34m.\u001b[0m\u001b[0mgenerators_veech\u001b[0m\u001b[0;34m.\u001b[0m\u001b[0mplot\u001b[0m\u001b[0;34m(\u001b[0m\u001b[0;34m)\u001b[0m\u001b[0;34m\u001b[0m\u001b[0;34m\u001b[0m\u001b[0m\n\u001b[0m",
      "\u001b[0;31mAttributeError\u001b[0m: 'FundDom' object has no attribute 'plot'"
     ]
    }
   ],
   "source": [
    "reg_oct.idr.plot()\n",
    "reg_oct.generators_veech.plot()"
   ]
  },
  {
   "cell_type": "code",
   "execution_count": 29,
   "metadata": {},
   "outputs": [],
   "source": [
    "m = ~matrix([reg_oct.triangles[0][0], reg_oct.triangles[0][1]]).T"
   ]
  },
  {
   "cell_type": "code",
   "execution_count": 30,
   "metadata": {},
   "outputs": [
    {
     "name": "stdout",
     "output_type": "stream",
     "text": [
      "(-1, a) (-a, 1)\n"
     ]
    }
   ],
   "source": [
    "tris_new = [triangulation.Triangle(*[m*v for v in tri]) for tri in reg_oct.triangles]\n",
    "oct_sheared = triangulation.Triangulation(tris_new, reg_oct.gluings)\n",
    "print(oct_sheared.triangles[2][0], oct_sheared.triangles[5][0])"
   ]
  },
  {
   "cell_type": "code",
   "execution_count": 31,
   "metadata": {
    "scrolled": false
   },
   "outputs": [
    {
     "data": {
      "application/vnd.jupyter.widget-view+json": {
       "model_id": "81f6a7ed0df74ea5871cc6598ee05f94",
       "version_major": 2,
       "version_minor": 0
      },
      "text/plain": [
       "Interactive function <function _ at 0x1b1b2b400> with 6 widgets\n",
       "  a_x: EvalText(value='-1', description='a_x',…"
      ]
     },
     "metadata": {},
     "output_type": "display_data"
    }
   ],
   "source": [
    "@interact\n",
    "def _(a_x=input_box(-1),\n",
    "      a_y=input_box(sqrt(2)),\n",
    "      b_x=input_box(-sqrt(2)),\n",
    "      b_y=input_box(1),\n",
    "      axes=False,\n",
    "      zoom=range_slider(-3, 3, default=(-1, 1))):\n",
    "    X = octagon.octagon(vector([a_x, a_y]), vector([b_x, b_y]))\n",
    "    X.plot().show()\n",
    "    X.idr.plot().show(axes=axes, xmin=zoom[0], xmax=zoom[1], ymax=abs(zoom[0]-zoom[1]))"
   ]
  }
 ],
 "metadata": {
  "kernelspec": {
   "display_name": "SageMath 9.0",
   "language": "sage",
   "name": "sagemath"
  },
  "language_info": {
   "codemirror_mode": {
    "name": "ipython",
    "version": 3
   },
   "file_extension": ".py",
   "mimetype": "text/x-python",
   "name": "python",
   "nbconvert_exporter": "python",
   "pygments_lexer": "ipython3",
   "version": "3.7.3"
  }
 },
 "nbformat": 4,
 "nbformat_minor": 2
}
