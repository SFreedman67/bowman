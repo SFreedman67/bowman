{
 "cells": [
  {
   "cell_type": "code",
   "execution_count": 1,
   "metadata": {
    "jupyter": {
     "outputs_hidden": false
    },
    "scrolled": true
   },
   "outputs": [],
   "source": [
    "import itertools\n",
    "from context import bowman\n",
    "from bowman.triangulation import Triangulation\n",
    "from bowman.point_orbits import *"
   ]
  },
  {
   "cell_type": "markdown",
   "metadata": {},
   "source": [
    "## Computing periodic points\n",
    "This notebook supports implementation of computing the periodic points of the Ronen L."
   ]
  },
  {
   "cell_type": "code",
   "execution_count": 2,
   "metadata": {
    "jupyter": {
     "outputs_hidden": false
    }
   },
   "outputs": [
    {
     "name": "stdout",
     "output_type": "stream",
     "text": [
      "Number of generators:  9\n",
      "Veech element:\n",
      " [-1/2*a - 2  -3*a - 15]\n",
      "[ 2/5*a + 2 5/2*a + 14]\n"
     ]
    }
   ],
   "source": [
    "ronen44 = Triangulation.ronen_l(20)\n",
    "veech_gens_list = ronen44.generators_veech.gens\n",
    "print(\"Number of generators: \", len(veech_gens_list))\n",
    "\n",
    "# find a veech group element that is the product of sheers, then raise to a power if needed.\n",
    "veech_elem = veech_gens_list[3] * veech_gens_list[2] \n",
    "#veech_elem = veech_elem**2\n",
    "print(\"Veech element:\\n\", veech_elem)"
   ]
  },
  {
   "cell_type": "code",
   "execution_count": 3,
   "metadata": {},
   "outputs": [
    {
     "name": "stdout",
     "output_type": "stream",
     "text": [
      "There are  6  triangles in the table.\n",
      "Computing for triangle  0\n",
      "Computing for triangle  1\n",
      "Computing for triangle  2\n",
      "Computing for triangle  3\n",
      "Computing for triangle  4\n",
      "Computing for triangle  5\n"
     ]
    }
   ],
   "source": [
    "# compute the set of candidate periodic points.\n",
    "candidate_points = set()\n",
    "print(\"There are \", len(ronen44.triangles), \" triangles in the table.\")\n",
    "for i in range(len(ronen44.triangles)):\n",
    "    print(\"Computing for triangle \", i)\n",
    "    tri_points = ronen44.compute_candidate_periodic_points(i, veech_elem)\n",
    "    for point in tri_points:\n",
    "        reformatted = (i, point)\n",
    "        candidate_points.add(reformatted)"
   ]
  },
  {
   "cell_type": "code",
   "execution_count": 4,
   "metadata": {},
   "outputs": [
    {
     "data": {
      "image/png": "[encoded data removed]",
      "text/plain": [
       "Graphics object consisting of 40 graphics primitives"
      ]
     },
     "metadata": {},
     "output_type": "display_data"
    },
    {
     "name": "stdout",
     "output_type": "stream",
     "text": [
      "The preserved points are  {(4, (0, 1/2, 1/2)), (0, (0, 1/2, 1/2)), (2, (0, 1/2, 1/2)), (3, (0, 1/2, 1/2)), (5, (0, 1/2, 1/2)), (2, (1/2, 0, 1/2)), (4, (1/2, 1/2, 0)), (1, (0, 1/2, 1/2))}\n"
     ]
    }
   ],
   "source": [
    "# Now use the collection of candidate periodic points and the generators to find the periodic points\n",
    "def mark_points(trin, points_set, rgbcolor=(0, 0, 0)):\n",
    "    trin_copy = trin\n",
    "    for tri_id, pt_coords in points_set:\n",
    "        trin_copy = trin_copy.mark_point(tri_id, pt_coords, rgbcolor)\n",
    "    return trin_copy\n",
    "\n",
    "# this block runs the algorithm on all elements of the veech generators list to reduce to periodic points.\n",
    "preserved_pts = reduce_periodic_points(ronen44, candidate_points, veech_gens_list)\n",
    "mark_points(ronen44, preserved_pts).plot().show()\n",
    "print(\"The preserved points are \", preserved_pts)"
   ]
  },
  {
   "cell_type": "markdown",
   "metadata": {},
   "source": [
    "### Apply just a single veech group element\n",
    "The following allows for just applying a single element to the candidate points and checking to see what happens."
   ]
  },
  {
   "cell_type": "code",
   "execution_count": null,
   "metadata": {},
   "outputs": [],
   "source": [
    "# as can be seen by the following output, it is sufficient to just apply\n",
    "# a single veech element and get the entire collection of periodic points\n",
    "preserved_pts = points_preserved(ronen44, veech_gens_list[0], candidate_points)\n",
    "mark_points(ronen44, preserved_pts).plot().show()"
   ]
  },
  {
   "cell_type": "code",
   "execution_count": null,
   "metadata": {},
   "outputs": [],
   "source": []
  }
 ],
 "metadata": {
  "kernelspec": {
   "display_name": "SageMath 9.0",
   "language": "sage",
   "name": "sagemath"
  },
  "language_info": {
   "codemirror_mode": {
    "name": "ipython",
    "version": 3
   },
   "file_extension": ".py",
   "mimetype": "text/x-python",
   "name": "python",
   "nbconvert_exporter": "python",
   "pygments_lexer": "ipython3",
   "version": "3.7.3"
  }
 },
 "nbformat": 4,
 "nbformat_minor": 4
}
