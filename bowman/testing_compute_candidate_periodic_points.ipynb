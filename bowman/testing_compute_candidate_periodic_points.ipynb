{
 "cells": [
  {
   "cell_type": "code",
   "execution_count": 1,
   "metadata": {
    "collapsed": false,
    "jupyter": {
     "outputs_hidden": false
    },
    "scrolled": true
   },
   "outputs": [],
   "source": [
    "import itertools\n",
    "from context import bowman\n",
    "from bowman.triangulation import Triangulation\n",
    "from bowman.point_orbits import *"
   ]
  },
  {
   "cell_type": "code",
   "execution_count": 2,
   "metadata": {
    "collapsed": false,
    "jupyter": {
     "outputs_hidden": false
    }
   },
   "outputs": [
    {
     "data": {
      "text/plain": [
       "[     -a - 5   -2*a - 11]\n",
       "[-5/22*a - 1  -1/2*a - 2]"
      ]
     },
     "execution_count": 2,
     "metadata": {},
     "output_type": "execute_result"
    }
   ],
   "source": [
    "ronen44 = Triangulation.ronen_l(44)\n",
    "veech_gens_list = ronen44.generators_veech.gens\n",
    "#veech_elem = veech_gens_list[2] * veech_gens_list[0]\n",
    "#veech_elem = veech_elem**2\n",
    "veech_elem = veech_gens_list[12]\n",
    "veech_elem"
   ]
  },
  {
   "cell_type": "markdown",
   "metadata": {},
   "source": [
    "## Computing periodic points\n",
    "We use the surface and veech group obtained above, along with the particular veech element, to compute the candidate periodic points, and then the periodic points."
   ]
  },
  {
   "cell_type": "code",
   "execution_count": 9,
   "metadata": {},
   "outputs": [
    {
     "name": "stdout",
     "output_type": "stream",
     "text": [
      "Completed triangulation.\n",
      "Number of lines to eliminate: 4.\n",
      "Lines:\n",
      "((1/2, 0, 1/2), (1, 0, 0))\n",
      "((1/2, 1/4, 1/4), (1, 0, 0))\n",
      "((1/2, 0, 1/2), (0, 0, 1))\n",
      "((1/2, 1/4, 1/4), (0, 1/2, 1/2))\n",
      "Applying [     -a - 5   -2*a - 11]\n",
      "[-5/22*a - 1  -1/2*a - 2]...\n",
      "Completed triangulation.\n",
      "Completed triangulation.\n",
      "Number of lines to eliminate: 4.\n",
      "Lines:\n",
      "((1/2, 0, 1/2), (1, 0, 0))\n",
      "((1/2, 1/4, 1/4), (1, 0, 0))\n",
      "((1/2, 1/4, 1/4), (0, 1/2, 1/2))\n",
      "((1/2, 0, 1/2), (0, 0, 1))\n",
      "Applying [     -a - 5   -2*a - 11]\n",
      "[-5/22*a - 1  -1/2*a - 2]...\n",
      "Completed triangulation.\n",
      "Completed triangulation.\n",
      "Number of lines to eliminate: 4.\n",
      "Lines:\n",
      "((1/2, 0, 1/2), (1, 0, 0))\n",
      "((1/2, 1/4, 1/4), (1, 0, 0))\n",
      "((1/2, 0, 1/2), (0, 0, 1))\n",
      "((1/2, 1/4, 1/4), (0, 1/2, 1/2))\n",
      "Applying [     -a - 5   -2*a - 11]\n",
      "[-5/22*a - 1  -1/2*a - 2]...\n",
      "Completed triangulation.\n",
      "Completed triangulation.\n",
      "Number of lines to eliminate: 2.\n",
      "Lines:\n",
      "((1/2, 1/4, 1/4), (1, 0, 0))\n",
      "((1/2, 1/4, 1/4), (0, 1/2, 1/2))\n",
      "Applying [     -a - 5   -2*a - 11]\n",
      "[-5/22*a - 1  -1/2*a - 2]...\n",
      "Completed triangulation.\n",
      "Completed triangulation.\n",
      "Number of lines to eliminate: 4.\n",
      "Lines:\n",
      "((1/2, 1/4, 1/4), (1, 0, 0))\n",
      "((1/2, 1/4, 1/4), (0, 1/2, 1/2))\n",
      "((1/2, 1/2, 0), (0, 1, 0))\n",
      "((1/2, 1/2, 0), (1, 0, 0))\n",
      "Applying [     -a - 5   -2*a - 11]\n",
      "[-5/22*a - 1  -1/2*a - 2]...\n",
      "Completed triangulation.\n",
      "Completed triangulation.\n",
      "Number of lines to eliminate: 2.\n",
      "Lines:\n",
      "((1/2, 1/4, 1/4), (1, 0, 0))\n",
      "((1/2, 1/4, 1/4), (0, 1/2, 1/2))\n",
      "Applying [     -a - 5   -2*a - 11]\n",
      "[-5/22*a - 1  -1/2*a - 2]...\n",
      "Completed triangulation.\n"
     ]
    }
   ],
   "source": [
    "# so input set of candidate points is a set of points of form (i, (x1, x2, x3)) for triangle i\n",
    "# and candidate point (x1, x2, x3) on that triangle.\n",
    "\n",
    "candidate_points = set()\n",
    "\n",
    "for i in range(len(ronen44.triangles)):\n",
    "    tri_points = ronen44.compute_candidate_periodic_points(i, veech_gens_list, veech_elem)\n",
    "    for point in tri_points:\n",
    "        reformatted = (i, point)\n",
    "        candidate_points.add(reformatted)"
   ]
  },
  {
   "cell_type": "code",
   "execution_count": 10,
   "metadata": {},
   "outputs": [],
   "source": [
    "# now we run the code to check compute the periodic points\n",
    "def mark_points(trin, points_set, rgbcolor=(0, 0, 0)):\n",
    "    trin_copy = trin\n",
    "    for tri_id, pt_coords in points_set:\n",
    "        trin_copy = trin_copy.mark_point(tri_id, pt_coords, rgbcolor)\n",
    "    return trin_copy\n",
    "\n",
    "#preserved_pts = points_preserved(ronen44, veech_gens_list[13], candidate_points)\n",
    "#mark_points(ronen44, preserved_pts).plot().show()\n",
    "#preserved_pts"
   ]
  },
  {
   "cell_type": "code",
   "execution_count": null,
   "metadata": {},
   "outputs": [],
   "source": [
    "# this block runs the algorithm on all elements of the veech generators list to reduce to periodic points.\n",
    "preserved_pts = reduce_periodic_points(ronen44, candidate_points, veech_gens_list)\n",
    "mark_points(ronen44, preserved_pts).plot().show()\n",
    "mark_points(ronen44, candidate_points).plot().show()\n",
    "preserved_pts"
   ]
  },
  {
   "cell_type": "markdown",
   "metadata": {},
   "source": [
    "### Apply just a single veech group element\n",
    "The following allows for just applying a single element to the candidate points and checking to see what happens."
   ]
  },
  {
   "cell_type": "code",
   "execution_count": 43,
   "metadata": {},
   "outputs": [
    {
     "data": {
      "image/png": "[encoded data removed]",
      "text/plain": [
       "Graphics object consisting of 40 graphics primitives"
      ]
     },
     "metadata": {},
     "output_type": "display_data"
    },
    {
     "data": {
      "text/plain": [
       "{(0, (0, 1/2, 1/2)),\n",
       " (1, (0, 1/2, 1/2)),\n",
       " (2, (0, 1/2, 1/2)),\n",
       " (2, (1/2, 0, 1/2)),\n",
       " (3, (0, 1/2, 1/2)),\n",
       " (3, (1/2, 0, 1/2)),\n",
       " (4, (0, 1/2, 1/2)),\n",
       " (4, (1/2, 1/2, 0)),\n",
       " (5, (0, 1/2, 1/2))}"
      ]
     },
     "execution_count": 43,
     "metadata": {},
     "output_type": "execute_result"
    }
   ],
   "source": [
    "# as can be seen by the following output, it is sufficient to just apply\n",
    "# a single veech element and get the entire collection of periodic points\n",
    "preserved_pts = points_preserved(ronen44, veech_gens_list[13], candidate_points)\n",
    "mark_points(ronen44, preserved_pts).plot().show()\n",
    "preserved_pts"
   ]
  },
  {
   "cell_type": "code",
   "execution_count": null,
   "metadata": {},
   "outputs": [],
   "source": []
  },
  {
   "cell_type": "code",
   "execution_count": null,
   "metadata": {},
   "outputs": [],
   "source": []
  }
 ],
 "metadata": {
  "kernelspec": {
   "display_name": "SageMath 9.2",
   "language": "sage",
   "name": "sagemath"
  },
  "language_info": {
   "codemirror_mode": {
    "name": "ipython",
    "version": 3
   },
   "file_extension": ".py",
   "mimetype": "text/x-python",
   "name": "python",
   "nbconvert_exporter": "python",
   "pygments_lexer": "ipython3",
   "version": "3.8.10"
  }
 },
 "nbformat": 4,
 "nbformat_minor": 4
}
