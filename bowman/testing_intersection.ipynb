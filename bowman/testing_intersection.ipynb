{
 "cells": [
  {
   "cell_type": "code",
   "execution_count": 11,
   "metadata": {
    "jupyter": {
     "outputs_hidden": false
    }
   },
   "outputs": [],
   "source": [
    "from context import bowman\n",
    "from bowman.triangle import *"
   ]
  },
  {
   "cell_type": "code",
   "execution_count": 12,
   "metadata": {},
   "outputs": [
    {
     "data": {
      "text/plain": [
       "(True, (1/3, 1/3, 1/3))"
      ]
     },
     "execution_count": 12,
     "metadata": {},
     "output_type": "execute_result"
    }
   ],
   "source": [
    "intersect((1,0,0),(0,Rational(1)/2,Rational(1)/2),(0,1,0),(Rational(1)/2,0,Rational(1)/2))"
   ]
  },
  {
   "cell_type": "code",
   "execution_count": 13,
   "metadata": {},
   "outputs": [
    {
     "data": {
      "text/plain": [
       "(True, (1, 0, 0))"
      ]
     },
     "execution_count": 13,
     "metadata": {},
     "output_type": "execute_result"
    }
   ],
   "source": [
    "vertex1 = (1,0,0)\n",
    "vertex2 = (0,1,0)\n",
    "vertex3 = (0,0,1)\n",
    "\n",
    "midpoint1 = (Rational(1)/2,Rational(1)/2,0)\n",
    "midpoint2 = (0,Rational(1)/2,Rational(1)/2)\n",
    "midpoint3 = (Rational(1)/2,0,Rational(1)/2)\n",
    "\n",
    "centroid = (Rational(1)/3,Rational(1)/3,Rational(1)/3)\n",
    "\n",
    "intersect(vertex1,vertex2,vertex1,vertex3)"
   ]
  },
  {
   "cell_type": "code",
   "execution_count": 14,
   "metadata": {},
   "outputs": [],
   "source": [
    "def check_same(geo_obj1, geo_obj2):\n",
    "    assert(geo_obj1[0] == geo_obj2[0])\n",
    "    geo_obj1 = geo_obj1[1]\n",
    "    geo_obj2 = geo_obj2[1]\n",
    "    if geo_obj1 is None or geo_obj2 is None:\n",
    "        assert(geo_obj1 == geo_obj2)\n",
    "    else:  \n",
    "        assert(len(geo_obj1) == len(geo_obj2))\n",
    "        if len(geo_obj1) == 2:\n",
    "            assert(geo_obj1 == geo_obj2 or geo_obj1 == geo_obj2[::-1])\n",
    "        else:\n",
    "            assert geo_obj1 == geo_obj2\n",
    "\n",
    "def test(start1, end1, start2, end2, does_intersect, intersection):\n",
    "    check_same(intersect(start1, end1, start2, end2),(does_intersect, intersection))\n",
    "    check_same(intersect(end1, start1, start2, end2),(does_intersect, intersection))\n",
    "    check_same(intersect(start1, end1, end2, start2),(does_intersect, intersection))\n",
    "    check_same(intersect(end1, start1, end2, start2),(does_intersect, intersection))\n",
    "    check_same(intersect(start2, end2, start1, end1),(does_intersect, intersection))\n",
    "    check_same(intersect(end2, start2, start1, end1),(does_intersect, intersection))\n",
    "    check_same(intersect(start2, end2, end1, start1),(does_intersect, intersection))\n",
    "    check_same(intersect(end2, start2, end1, start1),(does_intersect, intersection))"
   ]
  },
  {
   "cell_type": "markdown",
   "metadata": {},
   "source": [
    "## Bad Tests: These Should Fail."
   ]
  },
  {
   "cell_type": "code",
   "execution_count": 15,
   "metadata": {},
   "outputs": [
    {
     "ename": "AssertionError",
     "evalue": "",
     "output_type": "error",
     "traceback": [
      "\u001b[0;31m---------------------------------------------------------------------------\u001b[0m",
      "\u001b[0;31mAssertionError\u001b[0m                            Traceback (most recent call last)",
      "\u001b[0;32m<ipython-input-15-67a62a7097e1>\u001b[0m in \u001b[0;36m<module>\u001b[0;34m()\u001b[0m\n\u001b[0;32m----> 1\u001b[0;31m \u001b[0mtest\u001b[0m\u001b[0;34m(\u001b[0m\u001b[0mvertex1\u001b[0m\u001b[0;34m,\u001b[0m \u001b[0mvertex2\u001b[0m\u001b[0;34m,\u001b[0m \u001b[0mvertex1\u001b[0m\u001b[0;34m,\u001b[0m \u001b[0mvertex3\u001b[0m\u001b[0;34m,\u001b[0m \u001b[0;32mFalse\u001b[0m\u001b[0;34m,\u001b[0m \u001b[0;32mNone\u001b[0m\u001b[0;34m)\u001b[0m\u001b[0;34m\u001b[0m\u001b[0;34m\u001b[0m\u001b[0m\n\u001b[0m",
      "\u001b[0;32m<ipython-input-14-7f08ebff90cd>\u001b[0m in \u001b[0;36mtest\u001b[0;34m(start1, end1, start2, end2, does_intersect, intersection)\u001b[0m\n\u001b[1;32m     13\u001b[0m \u001b[0;34m\u001b[0m\u001b[0m\n\u001b[1;32m     14\u001b[0m \u001b[0;32mdef\u001b[0m \u001b[0mtest\u001b[0m\u001b[0;34m(\u001b[0m\u001b[0mstart1\u001b[0m\u001b[0;34m,\u001b[0m \u001b[0mend1\u001b[0m\u001b[0;34m,\u001b[0m \u001b[0mstart2\u001b[0m\u001b[0;34m,\u001b[0m \u001b[0mend2\u001b[0m\u001b[0;34m,\u001b[0m \u001b[0mdoes_intersect\u001b[0m\u001b[0;34m,\u001b[0m \u001b[0mintersection\u001b[0m\u001b[0;34m)\u001b[0m\u001b[0;34m:\u001b[0m\u001b[0;34m\u001b[0m\u001b[0;34m\u001b[0m\u001b[0m\n\u001b[0;32m---> 15\u001b[0;31m     \u001b[0mcheck_same\u001b[0m\u001b[0;34m(\u001b[0m\u001b[0mintersect\u001b[0m\u001b[0;34m(\u001b[0m\u001b[0mstart1\u001b[0m\u001b[0;34m,\u001b[0m \u001b[0mend1\u001b[0m\u001b[0;34m,\u001b[0m \u001b[0mstart2\u001b[0m\u001b[0;34m,\u001b[0m \u001b[0mend2\u001b[0m\u001b[0;34m)\u001b[0m\u001b[0;34m,\u001b[0m\u001b[0;34m(\u001b[0m\u001b[0mdoes_intersect\u001b[0m\u001b[0;34m,\u001b[0m \u001b[0mintersection\u001b[0m\u001b[0;34m)\u001b[0m\u001b[0;34m)\u001b[0m\u001b[0;34m\u001b[0m\u001b[0;34m\u001b[0m\u001b[0m\n\u001b[0m\u001b[1;32m     16\u001b[0m     \u001b[0mcheck_same\u001b[0m\u001b[0;34m(\u001b[0m\u001b[0mintersect\u001b[0m\u001b[0;34m(\u001b[0m\u001b[0mend1\u001b[0m\u001b[0;34m,\u001b[0m \u001b[0mstart1\u001b[0m\u001b[0;34m,\u001b[0m \u001b[0mstart2\u001b[0m\u001b[0;34m,\u001b[0m \u001b[0mend2\u001b[0m\u001b[0;34m)\u001b[0m\u001b[0;34m,\u001b[0m\u001b[0;34m(\u001b[0m\u001b[0mdoes_intersect\u001b[0m\u001b[0;34m,\u001b[0m \u001b[0mintersection\u001b[0m\u001b[0;34m)\u001b[0m\u001b[0;34m)\u001b[0m\u001b[0;34m\u001b[0m\u001b[0;34m\u001b[0m\u001b[0m\n\u001b[1;32m     17\u001b[0m     \u001b[0mcheck_same\u001b[0m\u001b[0;34m(\u001b[0m\u001b[0mintersect\u001b[0m\u001b[0;34m(\u001b[0m\u001b[0mstart1\u001b[0m\u001b[0;34m,\u001b[0m \u001b[0mend1\u001b[0m\u001b[0;34m,\u001b[0m \u001b[0mend2\u001b[0m\u001b[0;34m,\u001b[0m \u001b[0mstart2\u001b[0m\u001b[0;34m)\u001b[0m\u001b[0;34m,\u001b[0m\u001b[0;34m(\u001b[0m\u001b[0mdoes_intersect\u001b[0m\u001b[0;34m,\u001b[0m \u001b[0mintersection\u001b[0m\u001b[0;34m)\u001b[0m\u001b[0;34m)\u001b[0m\u001b[0;34m\u001b[0m\u001b[0;34m\u001b[0m\u001b[0m\n",
      "\u001b[0;32m<ipython-input-14-7f08ebff90cd>\u001b[0m in \u001b[0;36mcheck_same\u001b[0;34m(geo_obj1, geo_obj2)\u001b[0m\n\u001b[1;32m      1\u001b[0m \u001b[0;32mdef\u001b[0m \u001b[0mcheck_same\u001b[0m\u001b[0;34m(\u001b[0m\u001b[0mgeo_obj1\u001b[0m\u001b[0;34m,\u001b[0m \u001b[0mgeo_obj2\u001b[0m\u001b[0;34m)\u001b[0m\u001b[0;34m:\u001b[0m\u001b[0;34m\u001b[0m\u001b[0;34m\u001b[0m\u001b[0m\n\u001b[0;32m----> 2\u001b[0;31m     \u001b[0;32massert\u001b[0m\u001b[0;34m(\u001b[0m\u001b[0mgeo_obj1\u001b[0m\u001b[0;34m[\u001b[0m\u001b[0mInteger\u001b[0m\u001b[0;34m(\u001b[0m\u001b[0;36m0\u001b[0m\u001b[0;34m)\u001b[0m\u001b[0;34m]\u001b[0m \u001b[0;34m==\u001b[0m \u001b[0mgeo_obj2\u001b[0m\u001b[0;34m[\u001b[0m\u001b[0mInteger\u001b[0m\u001b[0;34m(\u001b[0m\u001b[0;36m0\u001b[0m\u001b[0;34m)\u001b[0m\u001b[0;34m]\u001b[0m\u001b[0;34m)\u001b[0m\u001b[0;34m\u001b[0m\u001b[0;34m\u001b[0m\u001b[0m\n\u001b[0m\u001b[1;32m      3\u001b[0m     \u001b[0mgeo_obj1\u001b[0m \u001b[0;34m=\u001b[0m \u001b[0mgeo_obj1\u001b[0m\u001b[0;34m[\u001b[0m\u001b[0mInteger\u001b[0m\u001b[0;34m(\u001b[0m\u001b[0;36m1\u001b[0m\u001b[0;34m)\u001b[0m\u001b[0;34m]\u001b[0m\u001b[0;34m\u001b[0m\u001b[0;34m\u001b[0m\u001b[0m\n\u001b[1;32m      4\u001b[0m     \u001b[0mgeo_obj2\u001b[0m \u001b[0;34m=\u001b[0m \u001b[0mgeo_obj2\u001b[0m\u001b[0;34m[\u001b[0m\u001b[0mInteger\u001b[0m\u001b[0;34m(\u001b[0m\u001b[0;36m1\u001b[0m\u001b[0;34m)\u001b[0m\u001b[0;34m]\u001b[0m\u001b[0;34m\u001b[0m\u001b[0;34m\u001b[0m\u001b[0m\n\u001b[1;32m      5\u001b[0m     \u001b[0;32mif\u001b[0m \u001b[0mgeo_obj1\u001b[0m \u001b[0;32mis\u001b[0m \u001b[0;32mNone\u001b[0m \u001b[0;32mor\u001b[0m \u001b[0mgeo_obj2\u001b[0m \u001b[0;32mis\u001b[0m \u001b[0;32mNone\u001b[0m\u001b[0;34m:\u001b[0m\u001b[0;34m\u001b[0m\u001b[0;34m\u001b[0m\u001b[0m\n",
      "\u001b[0;31mAssertionError\u001b[0m: "
     ]
    }
   ],
   "source": [
    "test(vertex1, vertex2, vertex1, vertex3, False, None)"
   ]
  },
  {
   "cell_type": "markdown",
   "metadata": {},
   "source": [
    "## Intersections at a Point"
   ]
  },
  {
   "cell_type": "code",
   "execution_count": 16,
   "metadata": {},
   "outputs": [],
   "source": [
    "test(vertex1, vertex2, vertex1, vertex3, True, vertex1)\n",
    "test(vertex2, vertex1, vertex2, vertex3, True, vertex2)\n",
    "test(vertex3, vertex1, vertex3, vertex2, True, vertex3)\n",
    "\n",
    "test(vertex1, vertex2, vertex3, midpoint1, True, midpoint1)\n",
    "test(vertex1, vertex2, vertex3, centroid, False, None)\n",
    "test(vertex2, vertex3, vertex1, midpoint2, True, midpoint2)\n",
    "test(vertex2, vertex3, vertex1, centroid, False, None)\n",
    "test(vertex3, vertex1, vertex2, midpoint3, True, midpoint3)\n",
    "test(vertex3, vertex1, vertex2, centroid, False, None)\n",
    "\n",
    "test(vertex1, midpoint2, vertex2, midpoint3, True, centroid)\n",
    "test(vertex1, midpoint2, vertex3, midpoint1, True, centroid)\n",
    "test(vertex2, midpoint3, vertex3, midpoint1, True, centroid)"
   ]
  },
  {
   "cell_type": "markdown",
   "metadata": {},
   "source": [
    "## Intersections on a Line"
   ]
  },
  {
   "cell_type": "code",
   "execution_count": 17,
   "metadata": {},
   "outputs": [],
   "source": [
    "test(vertex1, vertex2, vertex1, vertex2, True, (vertex1, vertex2))\n",
    "test(vertex1, vertex2, vertex1, midpoint1, True, (vertex1, midpoint1))\n",
    "test(vertex1, vertex2, midpoint1, vertex2, True, (midpoint1, vertex2))\n",
    "\n",
    "test(vertex2, vertex3, vertex2, vertex3, True, (vertex2, vertex3))\n",
    "test(vertex2, vertex3, vertex2, midpoint2, True, (vertex2, midpoint2))\n",
    "test(vertex2, vertex3, midpoint2, vertex3, True, (midpoint2, vertex3))\n",
    "\n",
    "test(vertex3, vertex1, vertex3, vertex1, True, (vertex3, vertex1))\n",
    "test(vertex3, vertex1, vertex3, midpoint3, True, (vertex3, midpoint3))\n",
    "test(vertex3, vertex1, midpoint3, vertex1, True, (midpoint3, vertex1))\n",
    "\n",
    "test(vertex1, midpoint2, vertex1, midpoint2, True, (vertex1, midpoint2))\n",
    "test(vertex1, midpoint2, vertex1, centroid, True, (vertex1, centroid))\n",
    "test(vertex1, midpoint2, centroid, midpoint2, True, (centroid, midpoint2))\n",
    "\n",
    "test(vertex2, midpoint3, vertex2, midpoint3, True, (vertex2, midpoint3))\n",
    "test(vertex2, midpoint3, vertex2, centroid, True, (vertex2, centroid))\n",
    "test(vertex2, midpoint3, centroid, midpoint3, True, (centroid, midpoint3))\n",
    "\n",
    "test(vertex3, midpoint1, vertex3, midpoint1, True, (vertex3, midpoint1))\n",
    "test(vertex3, midpoint1, vertex3, centroid, True, (vertex3, centroid))\n",
    "test(vertex3, midpoint1, centroid, midpoint1, True, (centroid, midpoint1))"
   ]
  },
  {
   "cell_type": "code",
   "execution_count": null,
   "metadata": {},
   "outputs": [],
   "source": []
  }
 ],
 "metadata": {
  "kernelspec": {
   "display_name": "SageMath 9.1",
   "language": "sage",
   "name": "sagemath"
  },
  "language_info": {
   "codemirror_mode": {
    "name": "ipython",
    "version": 3
   },
   "file_extension": ".py",
   "mimetype": "text/x-python",
   "name": "python",
   "nbconvert_exporter": "python",
   "pygments_lexer": "ipython3",
   "version": "3.7.3"
  }
 },
 "nbformat": 4,
 "nbformat_minor": 4
}
