{
 "cells": [
  {
   "cell_type": "code",
   "execution_count": null,
   "metadata": {
    "jupyter": {
     "outputs_hidden": false
    }
   },
   "outputs": [],
   "source": [
    "from context import bowman\n",
    "from bowman.triangle import *"
   ]
  },
  {
   "cell_type": "code",
   "execution_count": null,
   "metadata": {},
   "outputs": [],
   "source": [
    "intersect((1,0,0),(0,Rational(1)/2,Rational(1)/2),(0,1,0),(Rational(1)/2,0,Rational(1)/2))"
   ]
  },
  {
   "cell_type": "code",
   "execution_count": null,
   "metadata": {},
   "outputs": [],
   "source": [
    "vertex1 = (1,0,0)\n",
    "vertex2 = (0,1,0)\n",
    "vertex3 = (0,0,1)\n",
    "\n",
    "midpoint1 = (Rational(1)/2,Rational(1)/2,0)\n",
    "midpoint2 = (0,Rational(1)/2,Rational(1)/2)\n",
    "midpoint3 = (Rational(1)/2,0,Rational(1)/2)\n",
    "\n",
    "centroid = (Rational(1)/3,Rational(1)/3,Rational(1)/3)\n",
    "\n",
    "intersect(vertex1,vertex2,vertex1,vertex3)"
   ]
  },
  {
   "cell_type": "code",
   "execution_count": null,
   "metadata": {},
   "outputs": [],
   "source": [
    "def check_same(geo_obj1, geo_obj2):\n",
    "    assert(geo_obj1[0] == geo_obj2[0])\n",
    "    geo_obj1 = geo_obj1[1]\n",
    "    geo_obj2 = geo_obj2[1]\n",
    "    if geo_obj1 is None or geo_obj2 is None:\n",
    "        assert(geo_obj1 == geo_obj2)\n",
    "    else:  \n",
    "        assert(len(geo_obj1) == len(geo_obj2))\n",
    "        if len(geo_obj1) == 2:\n",
    "            assert(geo_obj1 == geo_obj2 or geo_obj1 == geo_obj2[::-1])\n",
    "        else:\n",
    "            assert geo_obj1 == geo_obj2\n",
    "\n",
    "def test(start1, end1, start2, end2, does_intersect, intersection):\n",
    "    check_same(intersect(start1, end1, start2, end2),(does_intersect, intersection))\n",
    "    check_same(intersect(end1, start1, start2, end2),(does_intersect, intersection))\n",
    "    check_same(intersect(start1, end1, end2, start2),(does_intersect, intersection))\n",
    "    check_same(intersect(end1, start1, end2, start2),(does_intersect, intersection))\n",
    "    check_same(intersect(start2, end2, start1, end1),(does_intersect, intersection))\n",
    "    check_same(intersect(end2, start2, start1, end1),(does_intersect, intersection))\n",
    "    check_same(intersect(start2, end2, end1, start1),(does_intersect, intersection))\n",
    "    check_same(intersect(end2, start2, end1, start1),(does_intersect, intersection))"
   ]
  },
  {
   "cell_type": "markdown",
   "metadata": {},
   "source": [
    "## Bad Tests: These Should Fail."
   ]
  },
  {
   "cell_type": "code",
   "execution_count": null,
   "metadata": {},
   "outputs": [],
   "source": [
    "test(vertex1, vertex2, vertex1, vertex3, False, None)"
   ]
  },
  {
   "cell_type": "markdown",
   "metadata": {},
   "source": [
    "## Intersections at a Point"
   ]
  },
  {
   "cell_type": "code",
   "execution_count": null,
   "metadata": {},
   "outputs": [],
   "source": [
    "test(vertex1, vertex2, vertex1, vertex3, True, vertex1)\n",
    "test(vertex2, vertex1, vertex2, vertex3, True, vertex2)\n",
    "test(vertex3, vertex1, vertex3, vertex2, True, vertex3)\n",
    "\n",
    "test(vertex1, vertex2, vertex3, midpoint1, True, midpoint1)\n",
    "test(vertex1, vertex2, vertex3, centroid, False, None)\n",
    "test(vertex2, vertex3, vertex1, midpoint2, True, midpoint2)\n",
    "test(vertex2, vertex3, vertex1, centroid, False, None)\n",
    "test(vertex3, vertex1, vertex2, midpoint3, True, midpoint3)\n",
    "test(vertex3, vertex1, vertex2, centroid, False, None)\n",
    "\n",
    "test(vertex1, midpoint2, vertex2, midpoint3, True, centroid)\n",
    "test(vertex1, midpoint2, vertex3, midpoint1, True, centroid)\n",
    "test(vertex2, midpoint3, vertex3, midpoint1, True, centroid)"
   ]
  },
  {
   "cell_type": "code",
   "execution_count": null,
   "metadata": {},
   "outputs": [],
   "source": [
    "test(vertex1, centroid, centroid, vertex2, True, centroid)\n",
    "test(vertex1, centroid, centroid, vertex3, True, centroid)\n",
    "test(vertex2, centroid, centroid, vertex3, True, centroid)\n",
    "\n",
    "test(vertex1, centroid, centroid, midpoint1, True, centroid)\n",
    "test(vertex1, centroid, centroid, midpoint2, True, centroid)\n",
    "test(vertex1, centroid, centroid, midpoint3, True, centroid)\n",
    "test(vertex2, centroid, centroid, midpoint1, True, centroid)\n",
    "test(vertex2, centroid, centroid, midpoint2, True, centroid)\n",
    "test(vertex2, centroid, centroid, midpoint3, True, centroid)\n",
    "test(vertex3, centroid, centroid, midpoint1, True, centroid)\n",
    "test(vertex3, centroid, centroid, midpoint2, True, centroid)\n",
    "test(vertex3, centroid, centroid, midpoint3, True, centroid)"
   ]
  },
  {
   "cell_type": "markdown",
   "metadata": {},
   "source": [
    "## Intersections on a Line"
   ]
  },
  {
   "cell_type": "code",
   "execution_count": null,
   "metadata": {},
   "outputs": [],
   "source": [
    "test(vertex1, vertex2, vertex1, vertex2, True, (vertex1, vertex2))\n",
    "test(vertex1, vertex2, vertex1, midpoint1, True, (vertex1, midpoint1))\n",
    "test(vertex1, vertex2, midpoint1, vertex2, True, (midpoint1, vertex2))\n",
    "\n",
    "test(vertex2, vertex3, vertex2, vertex3, True, (vertex2, vertex3))\n",
    "test(vertex2, vertex3, vertex2, midpoint2, True, (vertex2, midpoint2))\n",
    "test(vertex2, vertex3, midpoint2, vertex3, True, (midpoint2, vertex3))\n",
    "\n",
    "test(vertex3, vertex1, vertex3, vertex1, True, (vertex3, vertex1))\n",
    "test(vertex3, vertex1, vertex3, midpoint3, True, (vertex3, midpoint3))\n",
    "test(vertex3, vertex1, midpoint3, vertex1, True, (midpoint3, vertex1))\n",
    "\n",
    "test(vertex1, midpoint2, vertex1, midpoint2, True, (vertex1, midpoint2))\n",
    "test(vertex1, midpoint2, vertex1, centroid, True, (vertex1, centroid))\n",
    "test(vertex1, midpoint2, centroid, midpoint2, True, (centroid, midpoint2))\n",
    "\n",
    "test(vertex2, midpoint3, vertex2, midpoint3, True, (vertex2, midpoint3))\n",
    "test(vertex2, midpoint3, vertex2, centroid, True, (vertex2, centroid))\n",
    "test(vertex2, midpoint3, centroid, midpoint3, True, (centroid, midpoint3))\n",
    "\n",
    "test(vertex3, midpoint1, vertex3, midpoint1, True, (vertex3, midpoint1))\n",
    "test(vertex3, midpoint1, vertex3, centroid, True, (vertex3, centroid))\n",
    "test(vertex3, midpoint1, centroid, midpoint1, True, (centroid, midpoint1))"
   ]
  },
  {
   "cell_type": "code",
   "execution_count": null,
   "metadata": {},
   "outputs": [],
   "source": []
  }
 ],
 "metadata": {
  "kernelspec": {
   "display_name": "SageMath 9.1",
   "language": "sage",
   "name": "sagemath"
  },
  "language_info": {
   "codemirror_mode": {
    "name": "ipython",
    "version": 3
   },
   "file_extension": ".py",
   "mimetype": "text/x-python",
   "name": "python",
   "nbconvert_exporter": "python",
   "pygments_lexer": "ipython3",
   "version": "3.7.3"
  }
 },
 "nbformat": 4,
 "nbformat_minor": 4
}
