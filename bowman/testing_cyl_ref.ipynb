{
 "cells": [
  {
   "cell_type": "code",
   "execution_count": 1,
   "id": "8eac6aec",
   "metadata": {
    "tags": []
   },
   "outputs": [],
   "source": [
    "from context import bowman\n",
    "import triangulation as trin\n",
    "import rational_ht_application\n",
    "import triangle\n",
    "from geom_equiv import gen_geom_equivs\n",
    "import sage.all\n",
    "from sage.all import *"
   ]
  },
  {
   "cell_type": "markdown",
   "id": "abf638b7-97f2-472f-80b8-ceef98af390e",
   "metadata": {},
   "source": [
    "Below are tests for plotting constraints."
   ]
  },
  {
   "cell_type": "code",
   "execution_count": 2,
   "id": "ed5fbce4-b85e-428e-a80c-72d3d64d3698",
   "metadata": {},
   "outputs": [],
   "source": [
    "Y = trin.Triangulation.ronen_l(44)"
   ]
  },
  {
   "cell_type": "code",
   "execution_count": 3,
   "id": "22ddd8a3-2376-40da-aac7-886759395266",
   "metadata": {},
   "outputs": [
    {
     "name": "stdout",
     "output_type": "stream",
     "text": [
      "Completed triangulation.\n"
     ]
    }
   ],
   "source": [
    "X = rational_ht_application.bicuspid_segments(Y)\n",
    "#Y.plot().show()\n",
    "constraints_dict = rational_ht_application.segments_for_plotting(X) # get dictionary of triangles and constraints\n",
    "Z = Y.plot_constraints(constraints_dict) # get triangulation with marked segments (not transformed segmetns)\n",
    "#Z.plot()"
   ]
  },
  {
   "cell_type": "code",
   "execution_count": 4,
   "id": "a9926e0e-eba9-4da6-b5ed-4a12c8239f97",
   "metadata": {},
   "outputs": [
    {
     "ename": "UnboundLocalError",
     "evalue": "local variable 'out_edge' referenced before assignment",
     "output_type": "error",
     "traceback": [
      "\u001b[0;31m---------------------------------------------------------------------------\u001b[0m",
      "\u001b[0;31mUnboundLocalError\u001b[0m                         Traceback (most recent call last)",
      "\u001b[0;32m<ipython-input-4-63bb526cc023>\u001b[0m in \u001b[0;36m<module>\u001b[0;34m\u001b[0m\n\u001b[1;32m      1\u001b[0m \u001b[0;31m# need to test plot_transformed_constraints(self, pts_info)\u001b[0m\u001b[0;34m\u001b[0m\u001b[0;34m\u001b[0m\u001b[0;34m\u001b[0m\u001b[0m\n\u001b[1;32m      2\u001b[0m \u001b[0mpts_info\u001b[0m \u001b[0;34m=\u001b[0m \u001b[0;34m[\u001b[0m\u001b[0;34m[\u001b[0m\u001b[0;34m(\u001b[0m\u001b[0;34m(\u001b[0m\u001b[0mInteger\u001b[0m\u001b[0;34m(\u001b[0m\u001b[0;36m1\u001b[0m\u001b[0;34m)\u001b[0m\u001b[0;34m/\u001b[0m\u001b[0mInteger\u001b[0m\u001b[0;34m(\u001b[0m\u001b[0;36m2\u001b[0m\u001b[0;34m)\u001b[0m\u001b[0;34m,\u001b[0m \u001b[0mInteger\u001b[0m\u001b[0;34m(\u001b[0m\u001b[0;36m1\u001b[0m\u001b[0;34m)\u001b[0m\u001b[0;34m/\u001b[0m\u001b[0mInteger\u001b[0m\u001b[0;34m(\u001b[0m\u001b[0;36m2\u001b[0m\u001b[0;34m)\u001b[0m\u001b[0;34m,\u001b[0m \u001b[0mInteger\u001b[0m\u001b[0;34m(\u001b[0m\u001b[0;36m0\u001b[0m\u001b[0;34m)\u001b[0m\u001b[0;34m)\u001b[0m\u001b[0;34m,\u001b[0m \u001b[0mInteger\u001b[0m\u001b[0;34m(\u001b[0m\u001b[0;36m0\u001b[0m\u001b[0;34m)\u001b[0m\u001b[0;34m,\u001b[0m \u001b[0mvector\u001b[0m\u001b[0;34m(\u001b[0m\u001b[0;34m[\u001b[0m\u001b[0mInteger\u001b[0m\u001b[0;34m(\u001b[0m\u001b[0;36m1\u001b[0m\u001b[0;34m)\u001b[0m\u001b[0;34m,\u001b[0m \u001b[0mInteger\u001b[0m\u001b[0;34m(\u001b[0m\u001b[0;36m1\u001b[0m\u001b[0;34m)\u001b[0m\u001b[0;34m]\u001b[0m\u001b[0;34m)\u001b[0m\u001b[0;34m)\u001b[0m\u001b[0;34m]\u001b[0m\u001b[0;34m]\u001b[0m\u001b[0;34m\u001b[0m\u001b[0;34m\u001b[0m\u001b[0m\n\u001b[0;32m----> 3\u001b[0;31m \u001b[0mZ\u001b[0m\u001b[0;34m.\u001b[0m\u001b[0mplot_transformed_constraints\u001b[0m\u001b[0;34m(\u001b[0m\u001b[0mpts_info\u001b[0m\u001b[0;34m)\u001b[0m\u001b[0;34m\u001b[0m\u001b[0;34m\u001b[0m\u001b[0m\n\u001b[0m",
      "\u001b[0;32m~/Documents/Programming Portfolio/bowman/bowman/triangulation.py\u001b[0m in \u001b[0;36mplot_transformed_constraints\u001b[0;34m(self, pts_info)\u001b[0m\n\u001b[1;32m    563\u001b[0m             \u001b[0;32mfor\u001b[0m \u001b[0mdat\u001b[0m \u001b[0;32min\u001b[0m \u001b[0mtri_dat\u001b[0m\u001b[0;34m:\u001b[0m\u001b[0;34m\u001b[0m\u001b[0;34m\u001b[0m\u001b[0m\n\u001b[1;32m    564\u001b[0m                 \u001b[0mbase_pt\u001b[0m\u001b[0;34m,\u001b[0m \u001b[0mindx\u001b[0m\u001b[0;34m,\u001b[0m \u001b[0mvec\u001b[0m \u001b[0;34m=\u001b[0m \u001b[0mdat\u001b[0m\u001b[0;34m\u001b[0m\u001b[0;34m\u001b[0m\u001b[0m\n\u001b[0;32m--> 565\u001b[0;31m                 \u001b[0mnew_triangulation\u001b[0m \u001b[0;34m=\u001b[0m \u001b[0mnew_triangulation\u001b[0m\u001b[0;34m.\u001b[0m\u001b[0mmark_flow\u001b[0m\u001b[0;34m(\u001b[0m\u001b[0mindx\u001b[0m\u001b[0;34m,\u001b[0m \u001b[0mbase_pt\u001b[0m\u001b[0;34m,\u001b[0m \u001b[0mvec\u001b[0m\u001b[0;34m,\u001b[0m \u001b[0;36m1\u001b[0m\u001b[0;34m,\u001b[0m \u001b[0;34m(\u001b[0m\u001b[0;36m1\u001b[0m\u001b[0;34m,\u001b[0m \u001b[0;36m0\u001b[0m\u001b[0;34m,\u001b[0m \u001b[0;36m0\u001b[0m\u001b[0;34m)\u001b[0m\u001b[0;34m)\u001b[0m\u001b[0;34m\u001b[0m\u001b[0;34m\u001b[0m\u001b[0m\n\u001b[0m\u001b[1;32m    566\u001b[0m         \u001b[0;32mreturn\u001b[0m \u001b[0mnew_triangulation\u001b[0m\u001b[0;34m\u001b[0m\u001b[0;34m\u001b[0m\u001b[0m\n\u001b[1;32m    567\u001b[0m \u001b[0;34m\u001b[0m\u001b[0m\n",
      "\u001b[0;32m~/Documents/Programming Portfolio/bowman/bowman/triangulation.py\u001b[0m in \u001b[0;36mmark_flow\u001b[0;34m(self, start_tri_id, start_coords, velocity, time, rgbcolor)\u001b[0m\n\u001b[1;32m    757\u001b[0m                 \u001b[0;32mbreak\u001b[0m\u001b[0;34m\u001b[0m\u001b[0;34m\u001b[0m\u001b[0m\n\u001b[1;32m    758\u001b[0m             \u001b[0;32melse\u001b[0m\u001b[0;34m:\u001b[0m\u001b[0;34m\u001b[0m\u001b[0;34m\u001b[0m\u001b[0m\n\u001b[0;32m--> 759\u001b[0;31m                 \u001b[0ms\u001b[0m\u001b[0;34m,\u001b[0m \u001b[0mout_edge\u001b[0m\u001b[0;34m,\u001b[0m \u001b[0mt\u001b[0m \u001b[0;34m=\u001b[0m \u001b[0mself\u001b[0m\u001b[0;34m.\u001b[0m\u001b[0m__step_flow_helper__\u001b[0m\u001b[0;34m(\u001b[0m\u001b[0mstart_tri_id\u001b[0m\u001b[0;34m,\u001b[0m \u001b[0mstart_coords\u001b[0m\u001b[0;34m,\u001b[0m \u001b[0mvelocity\u001b[0m\u001b[0;34m)\u001b[0m\u001b[0;34m\u001b[0m\u001b[0;34m\u001b[0m\u001b[0m\n\u001b[0m\u001b[1;32m    760\u001b[0m                 end_coords_indexed = sorted([((out_edge + 1) % 3, s),\n\u001b[1;32m    761\u001b[0m                                              \u001b[0;34m(\u001b[0m\u001b[0mout_edge\u001b[0m\u001b[0;34m,\u001b[0m \u001b[0;36m1\u001b[0m \u001b[0;34m-\u001b[0m \u001b[0ms\u001b[0m\u001b[0;34m)\u001b[0m\u001b[0;34m,\u001b[0m\u001b[0;34m\u001b[0m\u001b[0;34m\u001b[0m\u001b[0m\n",
      "\u001b[0;32m~/Documents/Programming Portfolio/bowman/bowman/triangulation.py\u001b[0m in \u001b[0;36m__step_flow_helper__\u001b[0;34m(self, start_tri_id, start_coords, direction)\u001b[0m\n\u001b[1;32m    670\u001b[0m \u001b[0;34m\u001b[0m\u001b[0m\n\u001b[1;32m    671\u001b[0m         \u001b[0;31m# Step 2: Determine the vector coordinates of the next point.\u001b[0m\u001b[0;34m\u001b[0m\u001b[0;34m\u001b[0m\u001b[0;34m\u001b[0m\u001b[0m\n\u001b[0;32m--> 672\u001b[0;31m         \u001b[0mlinear_system\u001b[0m \u001b[0;34m=\u001b[0m \u001b[0msage\u001b[0m\u001b[0;34m.\u001b[0m\u001b[0mall\u001b[0m\u001b[0;34m.\u001b[0m\u001b[0mcolumn_matrix\u001b[0m\u001b[0;34m(\u001b[0m\u001b[0;34m(\u001b[0m\u001b[0mstart_tri\u001b[0m\u001b[0;34m[\u001b[0m\u001b[0mout_edge\u001b[0m\u001b[0;34m]\u001b[0m\u001b[0;34m,\u001b[0m \u001b[0mdirection\u001b[0m\u001b[0;34m)\u001b[0m\u001b[0;34m)\u001b[0m\u001b[0;34m\u001b[0m\u001b[0;34m\u001b[0m\u001b[0m\n\u001b[0m\u001b[1;32m    673\u001b[0m         \u001b[0;31m#print(\"martrix: \", linear_system)\u001b[0m\u001b[0;34m\u001b[0m\u001b[0;34m\u001b[0m\u001b[0;34m\u001b[0m\u001b[0m\n\u001b[1;32m    674\u001b[0m         \u001b[0mline\u001b[0m \u001b[0;34m=\u001b[0m \u001b[0mstart_pos\u001b[0m\u001b[0;34m\u001b[0m\u001b[0;34m\u001b[0m\u001b[0m\n",
      "\u001b[0;31mUnboundLocalError\u001b[0m: local variable 'out_edge' referenced before assignment"
     ]
    }
   ],
   "source": [
    "# need to test plot_transformed_constraints(self, pts_info)\n",
    "pts_info = [[((1/2, 1/2, 0), 0, vector([1, 1]))]]\n",
    "Z.plot_transformed_constraints(pts_info)"
   ]
  },
  {
   "cell_type": "code",
   "execution_count": null,
   "id": "0b824ce7-818b-44e6-a1d7-47e8dad21f60",
   "metadata": {},
   "outputs": [],
   "source": [
    "F = Y.generators_veech\n",
    "#veech_elem = matrix([[1, 11], [0, 1]])\n",
    "veech_elem = F.gens[12] # get veech element\n",
    "#new_tri, indx, new_coord = Y.track_marked_point((1/2, 1/2, 0), 0, veech_elem)"
   ]
  },
  {
   "cell_type": "code",
   "execution_count": 6,
   "id": "72388d4f-ca0d-4868-8f41-43dc9baf384e",
   "metadata": {},
   "outputs": [
    {
     "ename": "ValueError",
     "evalue": "Invalid barycentric coordinates.",
     "output_type": "error",
     "traceback": [
      "\u001b[0;31m---------------------------------------------------------------------------\u001b[0m",
      "\u001b[0;31mValueError\u001b[0m                                Traceback (most recent call last)",
      "\u001b[0;32m<ipython-input-6-709e5320a9a3>\u001b[0m in \u001b[0;36m<module>\u001b[0;34m\u001b[0m\n\u001b[1;32m      2\u001b[0m \u001b[0;31m# main_constraint_plotter is the master function that returns a triangulation with\u001b[0m\u001b[0;34m\u001b[0m\u001b[0;34m\u001b[0m\u001b[0;34m\u001b[0m\u001b[0m\n\u001b[1;32m      3\u001b[0m \u001b[0;31m# the transformed segments plotted on it.\u001b[0m\u001b[0;34m\u001b[0m\u001b[0;34m\u001b[0m\u001b[0;34m\u001b[0m\u001b[0m\n\u001b[0;32m----> 4\u001b[0;31m \u001b[0mnew_triangulation\u001b[0m \u001b[0;34m=\u001b[0m \u001b[0mZ\u001b[0m\u001b[0;34m.\u001b[0m\u001b[0mmain_constraint_plotter\u001b[0m\u001b[0;34m(\u001b[0m\u001b[0mveech_elem\u001b[0m\u001b[0;34m)\u001b[0m\u001b[0;34m\u001b[0m\u001b[0;34m\u001b[0m\u001b[0m\n\u001b[0m",
      "\u001b[0;32m~/Documents/Programming Portfolio/bowman/bowman/triangulation.py\u001b[0m in \u001b[0;36mmain_constraint_plotter\u001b[0;34m(self, veech_elem)\u001b[0m\n\u001b[1;32m    587\u001b[0m             \u001b[0mnew_pts_info\u001b[0m\u001b[0;34m.\u001b[0m\u001b[0mappend\u001b[0m\u001b[0;34m(\u001b[0m\u001b[0mmp_info\u001b[0m\u001b[0;34m)\u001b[0m\u001b[0;34m\u001b[0m\u001b[0;34m\u001b[0m\u001b[0m\n\u001b[1;32m    588\u001b[0m         \u001b[0;31m# new_pts_info is a list of form [[(., ., .), (., ., .)...], ...] of length num_triangles\u001b[0m\u001b[0;34m\u001b[0m\u001b[0;34m\u001b[0m\u001b[0;34m\u001b[0m\u001b[0m\n\u001b[0;32m--> 589\u001b[0;31m         \u001b[0mtransformed_segments_triangulation\u001b[0m \u001b[0;34m=\u001b[0m \u001b[0mself\u001b[0m\u001b[0;34m.\u001b[0m\u001b[0mplot_transformed_constraints\u001b[0m\u001b[0;34m(\u001b[0m\u001b[0mnew_pts_info\u001b[0m\u001b[0;34m)\u001b[0m\u001b[0;34m\u001b[0m\u001b[0;34m\u001b[0m\u001b[0m\n\u001b[0m\u001b[1;32m    590\u001b[0m         \u001b[0;32mreturn\u001b[0m \u001b[0mtransformed_segments_triangulation\u001b[0m\u001b[0;34m\u001b[0m\u001b[0;34m\u001b[0m\u001b[0m\n\u001b[1;32m    591\u001b[0m \u001b[0;34m\u001b[0m\u001b[0m\n",
      "\u001b[0;32m~/Documents/Programming Portfolio/bowman/bowman/triangulation.py\u001b[0m in \u001b[0;36mplot_transformed_constraints\u001b[0;34m(self, pts_info)\u001b[0m\n\u001b[1;32m    563\u001b[0m             \u001b[0;32mfor\u001b[0m \u001b[0mdat\u001b[0m \u001b[0;32min\u001b[0m \u001b[0mtri_dat\u001b[0m\u001b[0;34m:\u001b[0m\u001b[0;34m\u001b[0m\u001b[0;34m\u001b[0m\u001b[0m\n\u001b[1;32m    564\u001b[0m                 \u001b[0mbase_pt\u001b[0m\u001b[0;34m,\u001b[0m \u001b[0mindx\u001b[0m\u001b[0;34m,\u001b[0m \u001b[0mvec\u001b[0m \u001b[0;34m=\u001b[0m \u001b[0mdat\u001b[0m\u001b[0;34m\u001b[0m\u001b[0;34m\u001b[0m\u001b[0m\n\u001b[0;32m--> 565\u001b[0;31m                 \u001b[0mnew_triangulation\u001b[0m \u001b[0;34m=\u001b[0m \u001b[0mnew_triangulation\u001b[0m\u001b[0;34m.\u001b[0m\u001b[0mmark_flow\u001b[0m\u001b[0;34m(\u001b[0m\u001b[0mindx\u001b[0m\u001b[0;34m,\u001b[0m \u001b[0mbase_pt\u001b[0m\u001b[0;34m,\u001b[0m \u001b[0mvec\u001b[0m\u001b[0;34m,\u001b[0m \u001b[0;36m1\u001b[0m\u001b[0;34m,\u001b[0m \u001b[0;34m(\u001b[0m\u001b[0;36m1\u001b[0m\u001b[0;34m,\u001b[0m \u001b[0;36m0\u001b[0m\u001b[0;34m,\u001b[0m \u001b[0;36m0\u001b[0m\u001b[0;34m)\u001b[0m\u001b[0;34m)\u001b[0m\u001b[0;34m\u001b[0m\u001b[0;34m\u001b[0m\u001b[0m\n\u001b[0m\u001b[1;32m    566\u001b[0m         \u001b[0;32mreturn\u001b[0m \u001b[0mnew_triangulation\u001b[0m\u001b[0;34m\u001b[0m\u001b[0;34m\u001b[0m\u001b[0m\n\u001b[1;32m    567\u001b[0m \u001b[0;34m\u001b[0m\u001b[0m\n",
      "\u001b[0;32m~/Documents/Programming Portfolio/bowman/bowman/triangulation.py\u001b[0m in \u001b[0;36mmark_flow\u001b[0;34m(self, start_tri_id, start_coords, velocity, time, rgbcolor)\u001b[0m\n\u001b[1;32m    781\u001b[0m                 \u001b[0mend_coords_partial\u001b[0m \u001b[0;34m=\u001b[0m \u001b[0mchange_of_basis\u001b[0m\u001b[0;34m**\u001b[0m\u001b[0;34m(\u001b[0m\u001b[0;34m-\u001b[0m\u001b[0;36m1\u001b[0m\u001b[0;34m)\u001b[0m \u001b[0;34m*\u001b[0m \u001b[0mend_pos\u001b[0m\u001b[0;34m\u001b[0m\u001b[0;34m\u001b[0m\u001b[0m\n\u001b[1;32m    782\u001b[0m                 \u001b[0mend_coords\u001b[0m \u001b[0;34m=\u001b[0m \u001b[0;34m(\u001b[0m\u001b[0;36m1\u001b[0m \u001b[0;34m-\u001b[0m \u001b[0mend_coords_partial\u001b[0m\u001b[0;34m[\u001b[0m\u001b[0;36m0\u001b[0m\u001b[0;34m]\u001b[0m \u001b[0;34m-\u001b[0m \u001b[0mend_coords_partial\u001b[0m\u001b[0;34m[\u001b[0m\u001b[0;36m1\u001b[0m\u001b[0;34m]\u001b[0m\u001b[0;34m,\u001b[0m \u001b[0mend_coords_partial\u001b[0m\u001b[0;34m[\u001b[0m\u001b[0;36m0\u001b[0m\u001b[0;34m]\u001b[0m\u001b[0;34m,\u001b[0m \u001b[0mend_coords_partial\u001b[0m\u001b[0;34m[\u001b[0m\u001b[0;36m1\u001b[0m\u001b[0;34m]\u001b[0m\u001b[0;34m)\u001b[0m\u001b[0;34m\u001b[0m\u001b[0;34m\u001b[0m\u001b[0m\n\u001b[0;32m--> 783\u001b[0;31m                 \u001b[0mtris_new\u001b[0m \u001b[0;34m=\u001b[0m \u001b[0mtris_new\u001b[0m\u001b[0;34m[\u001b[0m\u001b[0;36m0\u001b[0m\u001b[0;34m:\u001b[0m\u001b[0mstart_tri_id\u001b[0m\u001b[0;34m]\u001b[0m \u001b[0;34m+\u001b[0m \u001b[0;34m(\u001b[0m\u001b[0mtris_new\u001b[0m\u001b[0;34m[\u001b[0m\u001b[0mstart_tri_id\u001b[0m\u001b[0;34m]\u001b[0m\u001b[0;34m.\u001b[0m\u001b[0mmark_line\u001b[0m\u001b[0;34m(\u001b[0m\u001b[0mstart_coords\u001b[0m\u001b[0;34m,\u001b[0m \u001b[0mend_coords\u001b[0m\u001b[0;34m,\u001b[0m \u001b[0mrgbcolor\u001b[0m\u001b[0;34m)\u001b[0m\u001b[0;34m,\u001b[0m\u001b[0;34m)\u001b[0m \u001b[0;34m+\u001b[0m \u001b[0mtris_new\u001b[0m\u001b[0;34m[\u001b[0m\u001b[0mstart_tri_id\u001b[0m \u001b[0;34m+\u001b[0m \u001b[0;36m1\u001b[0m\u001b[0;34m:\u001b[0m\u001b[0;34m]\u001b[0m\u001b[0;34m\u001b[0m\u001b[0;34m\u001b[0m\u001b[0m\n\u001b[0m\u001b[1;32m    784\u001b[0m                 \u001b[0;32mbreak\u001b[0m\u001b[0;34m\u001b[0m\u001b[0;34m\u001b[0m\u001b[0m\n\u001b[1;32m    785\u001b[0m \u001b[0;34m\u001b[0m\u001b[0m\n",
      "\u001b[0;32m~/Documents/Programming Portfolio/bowman/bowman/triangle.py\u001b[0m in \u001b[0;36mmark_line\u001b[0;34m(self, start_coords, end_coords, rgbcolor)\u001b[0m\n\u001b[1;32m     78\u001b[0m     \u001b[0;32mdef\u001b[0m \u001b[0mmark_line\u001b[0m\u001b[0;34m(\u001b[0m\u001b[0mself\u001b[0m\u001b[0;34m,\u001b[0m \u001b[0mstart_coords\u001b[0m\u001b[0;34m,\u001b[0m \u001b[0mend_coords\u001b[0m\u001b[0;34m,\u001b[0m \u001b[0mrgbcolor\u001b[0m\u001b[0;34m)\u001b[0m\u001b[0;34m:\u001b[0m\u001b[0;34m\u001b[0m\u001b[0;34m\u001b[0m\u001b[0m\n\u001b[1;32m     79\u001b[0m         \u001b[0;32mif\u001b[0m \u001b[0;32mnot\u001b[0m \u001b[0mis_valid_barycentric_coordinate\u001b[0m\u001b[0;34m(\u001b[0m\u001b[0;34m*\u001b[0m\u001b[0mstart_coords\u001b[0m\u001b[0;34m)\u001b[0m \u001b[0;32mor\u001b[0m \u001b[0;32mnot\u001b[0m \u001b[0mis_valid_barycentric_coordinate\u001b[0m\u001b[0;34m(\u001b[0m\u001b[0;34m*\u001b[0m\u001b[0mend_coords\u001b[0m\u001b[0;34m)\u001b[0m\u001b[0;34m:\u001b[0m\u001b[0;34m\u001b[0m\u001b[0;34m\u001b[0m\u001b[0m\n\u001b[0;32m---> 80\u001b[0;31m             \u001b[0;32mraise\u001b[0m \u001b[0mValueError\u001b[0m\u001b[0;34m(\u001b[0m\u001b[0;34m\"Invalid barycentric coordinates.\"\u001b[0m\u001b[0;34m)\u001b[0m\u001b[0;34m\u001b[0m\u001b[0;34m\u001b[0m\u001b[0m\n\u001b[0m\u001b[1;32m     81\u001b[0m \u001b[0;34m\u001b[0m\u001b[0m\n\u001b[1;32m     82\u001b[0m         \u001b[0;32mfor\u001b[0m \u001b[0mi\u001b[0m \u001b[0;32min\u001b[0m \u001b[0mrange\u001b[0m\u001b[0;34m(\u001b[0m\u001b[0mlen\u001b[0m\u001b[0;34m(\u001b[0m\u001b[0mself\u001b[0m\u001b[0;34m.\u001b[0m\u001b[0mlines_marked\u001b[0m\u001b[0;34m)\u001b[0m\u001b[0;34m)\u001b[0m\u001b[0;34m:\u001b[0m\u001b[0;34m\u001b[0m\u001b[0;34m\u001b[0m\u001b[0m\n",
      "\u001b[0;31mValueError\u001b[0m: Invalid barycentric coordinates."
     ]
    }
   ],
   "source": [
    "# return triangulation object with plotted lines elements.\n",
    "# main_constraint_plotter is the master function that returns a triangulation with\n",
    "# the transformed segments plotted on it.\n",
    "new_triangulation = Z.main_constraint_plotter(veech_elem)"
   ]
  },
  {
   "cell_type": "markdown",
   "id": "13b8110a-63de-43e3-8826-34b46a52cafc",
   "metadata": {},
   "source": [
    "## Directional Triangulation code demo\n",
    "Test directional triangulation code."
   ]
  },
  {
   "cell_type": "code",
   "execution_count": null,
   "id": "d16e8fad-9424-406f-ad25-16df01fe5bf4",
   "metadata": {},
   "outputs": [],
   "source": [
    "k = QuadraticField(5)\n",
    "sqrt5 = k.gen()\n",
    "phi = (1+sqrt5)/2\n",
    "d = vector([0,1])\n",
    "X = trin.Triangulation.mcmullen_s(phi)\n",
    "Y, cyls = X.make_directional_triangulation(d)\n",
    "print(\"The cylinders are: \", cyls)\n",
    "Y.plot()"
   ]
  },
  {
   "cell_type": "code",
   "execution_count": null,
   "id": "078d504a",
   "metadata": {},
   "outputs": [],
   "source": [
    "X = trin.Triangulation.ronen_l(44)\n",
    "d = vector([1, 1])\n",
    "Y, cyls = X.make_directional_triangulation(d)\n",
    "print(cyls)\n",
    "Y.plot()"
   ]
  },
  {
   "cell_type": "code",
   "execution_count": null,
   "id": "f32eac66",
   "metadata": {},
   "outputs": [],
   "source": [
    "X = trin.Triangulation.regular_octagon()\n",
    "k = QuadraticField(2)\n",
    "sqrt2 = k.gen()\n",
    "d = vector([0, 1])\n",
    "d1=vector([1 / sqrt2, 1 / sqrt2])\n",
    "d2 = vector([-1 -1 / sqrt2, -1 / sqrt2])\n",
    "Y, cyls = X.make_directional_triangulation(d1)\n",
    "print(cyls)\n",
    "print(X.is_delaunay)\n",
    "Y.plot()"
   ]
  },
  {
   "cell_type": "code",
   "execution_count": null,
   "id": "95226960",
   "metadata": {},
   "outputs": [],
   "source": [
    "X = trin.Triangulation.mcmullen_l(2, 2)\n",
    "d = vector([2, 2])\n",
    "Y, cyls = X.make_directional_triangulation(d)\n",
    "print(cyls)\n",
    "print(X.is_delaunay)\n",
    "Y.plot()"
   ]
  },
  {
   "cell_type": "code",
   "execution_count": null,
   "id": "92b7de7b-9c57-42e6-9781-9c5e087a3134",
   "metadata": {},
   "outputs": [],
   "source": [
    "    # def main_constraint_plotter(self, segment_triangulation, veech_elem):\n",
    "    #     \"\"\"\n",
    "    #     segment_triangulation   := a triangulation with marked segments\n",
    "    #     veech_elem              := global veech element for triangulation\n",
    "    #     This function returns a new triangulation with transformed segments\n",
    "    #     under the veech element.\n",
    "    #     \"\"\"\n",
    "    #     new_pts_info = []\n",
    "    #     tris = segment_triangulation.triangles\n",
    "    #     for i, tri in enumerate(tris):\n",
    "    #         lines_marked = tri.lines_marked\n",
    "    #         base_coords = [j[0] for j in lines_marked]\n",
    "    #         dir_coords = [j[1] for j in lines_marked]\n",
    "    #         # use these to make the vectors\n",
    "    #         vectors_list = [Triangulation.bary_coords_vec(line_marked[0], line_marked[1], tri) for line_marked in lines_marked]\n",
    "    #         transformed_vectors = [veech_elem * j for j in vectors_list]\n",
    "    #         mp_info = []\n",
    "    #         for k, coord in enumerate(base_coords):\n",
    "    #             new_triangulation, new_tri_indx, new_coord = self.track_marked_point(coord, i, veech_elem)\n",
    "    #             real_tri_indx = self.geom_equiv_relabelling(new_triangulation, new_tri_indx) #get index of triangle in original\n",
    "    #             mp_info.append((new_coord, real_tri_indx, transformed_vectors[k]))\n",
    "    #         new_pts_info.append(mp_info)\n",
    "    #     transfromed_plot_triangulation = self.plot_transformed_constraints(new_pts_info)\n",
    "    #     return transfromed_plot_triangulation"
   ]
  }
 ],
 "metadata": {
  "kernelspec": {
   "display_name": "SageMath 9.2",
   "language": "sage",
   "name": "sagemath"
  },
  "language_info": {
   "codemirror_mode": {
    "name": "ipython",
    "version": 3
   },
   "file_extension": ".py",
   "mimetype": "text/x-python",
   "name": "python",
   "nbconvert_exporter": "python",
   "pygments_lexer": "ipython3",
   "version": "3.8.10"
  }
 },
 "nbformat": 4,
 "nbformat_minor": 5
}
