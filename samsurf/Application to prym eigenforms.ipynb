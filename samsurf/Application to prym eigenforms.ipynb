{
 "cells": [
  {
   "cell_type": "code",
   "execution_count": 2,
   "id": "b68433f5",
   "metadata": {},
   "outputs": [],
   "source": [
    "from context import bowman\n",
    "from bowman.triangulation import Triangulation\n",
    "from bowman.point_orbits import *\n",
    "from bowman.rational_ht_application import *"
   ]
  },
  {
   "cell_type": "markdown",
   "id": "23b9acb9-1af6-4e68-97e9-76d83a95364e",
   "metadata": {},
   "source": [
    "In this notebook, find the setup necessary for running the algorithm for finding periodic points on translation surfaces.  An example input is given below."
   ]
  },
  {
   "cell_type": "code",
   "execution_count": 3,
   "id": "85ccb4dc",
   "metadata": {},
   "outputs": [],
   "source": [
    "# define preping functions\n",
    "def remove_duplicates(veech_gens):\n",
    "    for x in veech_gens:\n",
    "        x.set_immutable()\n",
    "    \n",
    "    veech_set = set(veech_gens)\n",
    "    to_return = []\n",
    "    for x in veech_set:\n",
    "        y = -x\n",
    "        y.set_immutable()\n",
    "        if y not in to_return:\n",
    "            to_return.append(x)\n",
    "    return to_return\n",
    "\n",
    "def mark_points(trin, points_set, rgbcolor=(0, 0, 0)):\n",
    "    trin_copy = trin\n",
    "    for tri_id, pt_coords in points_set:\n",
    "        trin_copy = trin_copy.mark_point(tri_id, pt_coords, rgbcolor)\n",
    "    return trin_copy"
   ]
  },
  {
   "cell_type": "markdown",
   "id": "946087ed",
   "metadata": {},
   "source": [
    "### Running program on example"
   ]
  },
  {
   "cell_type": "code",
   "execution_count": 4,
   "id": "30d31b43",
   "metadata": {},
   "outputs": [
    {
     "data": {
      "image/png": "[encoded data removed]",
      "text/plain": [
       "Graphics object consisting of 6 graphics primitives"
      ]
     },
     "metadata": {},
     "output_type": "display_data"
    }
   ],
   "source": [
    "#prym = Triangulation.prym_eigenform_type_aplus(2, 1, 0, -1)\n",
    "#prym = Triangulation.prym_eigenform_type_aminus(2, 1, 0, -1)\n",
    "L = Triangulation.ronen_l(44)\n",
    "L.plot().show(axes=False)"
   ]
  },
  {
   "cell_type": "markdown",
   "id": "26999d21-06c5-4de0-b60a-076264f293e5",
   "metadata": {},
   "source": [
    "Find the Veech group generators, print an element will use in the algorithm, find periodic points."
   ]
  },
  {
   "cell_type": "code",
   "execution_count": 7,
   "id": "5ef668af",
   "metadata": {},
   "outputs": [
    {
     "data": {
      "text/plain": [
       "44"
      ]
     },
     "execution_count": 7,
     "metadata": {},
     "output_type": "execute_result"
    }
   ],
   "source": [
    "veech_gens = L.generators_veech.gens\n",
    "len(veech_gens)"
   ]
  },
  {
   "cell_type": "code",
   "execution_count": 8,
   "id": "4e35c5f3",
   "metadata": {},
   "outputs": [
    {
     "name": "stdout",
     "output_type": "stream",
     "text": [
      "[  5/2*a + 12    -3*a - 11]\n",
      "[-19/22*a - 5        a + 5]\n"
     ]
    }
   ],
   "source": [
    "veech_elem = veech_gens[4]*veech_gens[3]\n",
    "print(veech_elem)"
   ]
  },
  {
   "cell_type": "code",
   "execution_count": 9,
   "id": "3c175f1a",
   "metadata": {
    "tags": []
   },
   "outputs": [
    {
     "name": "stdout",
     "output_type": "stream",
     "text": [
      "There are  6  triangles in the table.\n",
      "Computing for triangle  0\n",
      "Computing for triangle  1\n",
      "Computing for triangle  2\n",
      "Computing for triangle  3\n",
      "Computing for triangle  4\n",
      "Computing for triangle  5\n",
      "finished.\n",
      "number candidate points:  641\n"
     ]
    }
   ],
   "source": [
    "candidate_points = set()\n",
    "print(\"There are \", len(L.triangles), \" triangles in the table.\")\n",
    "for i in range(len(L.triangles)):\n",
    "    print(\"Computing for triangle \", i)\n",
    "    tri_points = L.compute_candidate_periodic_points(i, veech_elem)\n",
    "    for point in tri_points:\n",
    "        reformatted = (i, point)\n",
    "        candidate_points.add(reformatted)\n",
    "print(\"finished.\")\n",
    "print(\"number candidate points: \", len(candidate_points))"
   ]
  },
  {
   "cell_type": "markdown",
   "id": "7456a5a4-41b1-42a6-8fba-20ff6b3aadb8",
   "metadata": {},
   "source": [
    "Plot the result."
   ]
  },
  {
   "cell_type": "code",
   "execution_count": 10,
   "id": "f1636b54",
   "metadata": {},
   "outputs": [
    {
     "data": {
      "image/png": "[encoded data removed]",
      "text/plain": [
       "Graphics object consisting of 16 graphics primitives"
      ]
     },
     "metadata": {},
     "output_type": "display_data"
    },
    {
     "name": "stdout",
     "output_type": "stream",
     "text": [
      "The preserved points are  {(4, (0, 1/2, 1/2)), (0, (0, 1/2, 1/2)), (2, (0, 1/2, 1/2)), (3, (0, 1/2, 1/2)), (5, (0, 1/2, 1/2)), (2, (1/2, 0, 1/2)), (4, (1/2, 1/2, 0)), (3, (1/2, 0, 1/2)), (1, (0, 1/2, 1/2))}\n"
     ]
    }
   ],
   "source": [
    "# this block runs the algorithm on all elements of the veech generators list to reduce to periodic points.\n",
    "veech_gens = remove_duplicates(veech_gens)\n",
    "preserved_pts = reduce_periodic_points(L, candidate_points, veech_gens)\n",
    "mark_points(L, preserved_pts).plot().show(axes=False)\n",
    "print(\"The preserved points are \", preserved_pts)"
   ]
  },
  {
   "cell_type": "markdown",
   "id": "d5f18d1a",
   "metadata": {},
   "source": [
    "Note that if the above program for computing candidate periodic points ever lags, then this can be fixed by taking products of matrices in the veech group, or different matrices."
   ]
  }
 ],
 "metadata": {
  "kernelspec": {
   "display_name": "SageMath 9.2",
   "language": "sage",
   "name": "sagemath"
  },
  "language_info": {
   "codemirror_mode": {
    "name": "ipython",
    "version": 3
   },
   "file_extension": ".py",
   "mimetype": "text/x-python",
   "name": "python",
   "nbconvert_exporter": "python",
   "pygments_lexer": "ipython3",
   "version": "3.8.10"
  }
 },
 "nbformat": 4,
 "nbformat_minor": 5
}
