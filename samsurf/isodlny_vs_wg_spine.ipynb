{
 "cells": [
  {
   "cell_type": "code",
   "execution_count": 1,
   "metadata": {},
   "outputs": [],
   "source": [
    "from itertools import product, combinations\n",
    "from collections import deque, defaultdict\n",
    "\n",
    "from context import samsurf\n",
    "from triangulation import Triangle, Triangulation\n",
    "import geom_equiv\n",
    "from polygon import Point\n",
    "from halfplane import HalfPlane"
   ]
  },
  {
   "cell_type": "markdown",
   "metadata": {},
   "source": [
    "# Messing with the Spine"
   ]
  },
  {
   "cell_type": "code",
   "execution_count": 2,
   "metadata": {},
   "outputs": [],
   "source": [
    "def find_trin_good(X):\n",
    "    r\"\"\"\n",
    "    Find a Delaunay triangulation of ``X`` that permits standard ``gt``-flow for time epsilon.\n",
    "\n",
    "    .. NOTE:\n",
    "\n",
    "        This means flowing downward from i in the hyperbolic plane.\n",
    "    \"\"\"\n",
    "    perturb = matrix(AA, [[1, 0], [0, 1 - 1/10_000]])\n",
    "    if X.apply_matrix(perturb).is_delaunay:\n",
    "        return X\n",
    "    r = X.idr\n",
    "    if any(edge.end == Point(0, 1) for edge in r.polygon.edges):\n",
    "        idx_edge_ingoing = next(k for k, edge in enumerate(r.polygon.edges) if edge.end == Point(0, 1))\n",
    "        return find_trin_good(r.get_trin_neighboring(idx_edge_ingoing))\n",
    "    else:\n",
    "        # i is interior to an edge of a bad IDR\n",
    "        rotate = matrix(AA, [[0, -1], [1, 0]])\n",
    "        return X.apply_matrix(rotate)"
   ]
  },
  {
   "cell_type": "code",
   "execution_count": 3,
   "metadata": {},
   "outputs": [],
   "source": [
    "def directions_shortest(X):\n",
    "    dirns = {}\n",
    "    for (idx_t, idx_e) in X.idxs_systoles:\n",
    "        edge = X.triangles[idx_t][idx_e]\n",
    "        dirn = oo if edge[0] == 0 else edge[1]/edge[0]\n",
    "        dirns[dirn] = (idx_t, idx_e)\n",
    "    return dirns"
   ]
  },
  {
   "cell_type": "code",
   "execution_count": 4,
   "metadata": {},
   "outputs": [],
   "source": [
    "def systoles_steepest(X):\n",
    "    steepness_to_systoles = defaultdict(list)\n",
    "    for idxs in X.idxs_systoles:\n",
    "        edge = X.triangles[idxs[0]][idxs[1]]\n",
    "        steepness = oo if edge[0] == 0 else abs(edge[1]/edge[0])\n",
    "        steepness_to_systoles[steepness].append(idxs)\n",
    "    steepest = max(steepness_to_systoles)\n",
    "    return sorted(steepness_to_systoles[steepest])"
   ]
  },
  {
   "cell_type": "code",
   "execution_count": 5,
   "metadata": {},
   "outputs": [],
   "source": [
    "def exit_factor(r):\n",
    "    axis_imag = HalfPlane.from_ineq(0, 1, 0)\n",
    "    points_intersection = [edge.halfplane.intersect_boundaries(axis_imag) for edge in r.polygon]\n",
    "    m = min(pt.v2 for pt in points_intersection if pt != oo and pt is not None)\n",
    "    return sqrt(AA(m))"
   ]
  },
  {
   "cell_type": "code",
   "execution_count": 6,
   "metadata": {},
   "outputs": [],
   "source": [
    "def traverse_edge(X, k=1):\n",
    "    X = find_trin_good(X)\n",
    "    idxs_systole = systoles_steepest(X)[0]\n",
    "    next_ups = X.idxs_tying(idxs_systole)\n",
    "    if not next_ups:\n",
    "        ef = exit_factor(X.idr)\n",
    "        X = X.apply_matrix(matrix([[1, 0], [0, ef]]))\n",
    "        return traverse_edge(X, k * ef)\n",
    "    else:\n",
    "        idxs_next_up = next_ups[0]\n",
    "        k1 = X.contraction_factor(idxs_systole, idxs_next_up)\n",
    "        m_trans = matrix(AA, [[1, 0], [0, k1]])\n",
    "        X = X.apply_matrix(m_trans)\n",
    "        assert len(directions_shortest(X)) > 2\n",
    "        return k * k1"
   ]
  },
  {
   "cell_type": "code",
   "execution_count": 7,
   "metadata": {},
   "outputs": [],
   "source": [
    "def get_neighbors(X0, m0):\n",
    "    X = X0.apply_matrix(m0).make_delaunay()\n",
    "    assert len(directions_shortest(X)) > 2\n",
    "    neighbors = []\n",
    "    for idxs0, idxs1 in combinations(sorted(directions_shortest(X).values()), r=2):\n",
    "        edge0, edge1 = X.triangles[idxs0[0]][idxs0[1]], X.triangles[idxs1[0]][idxs1[1]]\n",
    "        if matrix([edge0, edge1]).determinant() < 0:\n",
    "            edge0, edge1 = edge1, edge0\n",
    "        if edge0.dot_product(edge1) > 0:\n",
    "            edge0, edge1 = -edge1, edge0\n",
    "\n",
    "        J = matrix(AA, [[0, -1], [1, 0]])\n",
    "        m_align = matrix(AA, [edge0 + edge1, J*(edge0 + edge1)]).T**(-1)\n",
    "        X_aligned = X.apply_matrix(m_align)\n",
    "\n",
    "        if [idxs0, idxs1] == systoles_steepest(X_aligned):\n",
    "            k = traverse_edge(X_aligned)\n",
    "            m_total = m_align**(-1) * matrix(AA, [[1, 0], [0, k]]) * m_align * m0\n",
    "            neighbors.append(m_total)\n",
    "        elif [idxs0, idxs1] == systoles_steepest(X_aligned.apply_matrix(J)):\n",
    "            k = traverse_edge(X_aligned.apply_matrix(J))\n",
    "            m_total = m_align**(-1) * J**(-1) * matrix(AA, [[1, 0], [0, k]]) * J * m_align * m0\n",
    "            neighbors.append(m_total)\n",
    "        else:\n",
    "            continue\n",
    "\n",
    "    return neighbors"
   ]
  },
  {
   "cell_type": "code",
   "execution_count": 8,
   "metadata": {},
   "outputs": [],
   "source": [
    "def explore_spine(X0, num_visited=10):\n",
    "    visited = set()\n",
    "    to_visit = deque([identity_matrix(AA, 2)])\n",
    "    k = 0\n",
    "    while k < num_visited:\n",
    "        m = to_visit.pop()\n",
    "        m.set_immutable()\n",
    "        visited.add(m)\n",
    "        for m1 in get_neighbors(X0, m):\n",
    "            m1.set_immutable()\n",
    "            if m1 not in visited:\n",
    "                to_visit.appendleft(m1)\n",
    "        k += 1\n",
    "    return visited"
   ]
  },
  {
   "cell_type": "code",
   "execution_count": 9,
   "metadata": {},
   "outputs": [],
   "source": [
    "def double_pentagon():\n",
    "    X = Triangulation.ronen_l(5)\n",
    "    tris_new = []\n",
    "    for tri in X.triangles:\n",
    "        edges_new = [vector(AA, [x, y]) for x, y in tri]\n",
    "        tris_new.append(Triangle(*edges_new))\n",
    "    Xint = Triangulation(tris_new, X.gluings)\n",
    "\n",
    "    [idx_systole] = Xint.idxs_systoles\n",
    "    [idx_tying] = Xint.idxs_tying(idx_systole)\n",
    "    k = Xint.contraction_factor(idx_systole, idx_tying)\n",
    "    Xedge = Xint.apply_matrix(matrix([[1, 0], [0, k]]))\n",
    "\n",
    "    edge_h, edge_v = Xedge.triangles[2][2], Xedge.triangles[4][0]\n",
    "    a, b = edge_h + edge_v\n",
    "    m_norm = matrix([[a, -b], [b, a]])**(-1)\n",
    "    Xedge = find_trin_good(Xedge.apply_matrix(m_norm))\n",
    "\n",
    "    idx_sys = Xedge.idxs_systoles[0]\n",
    "    idx_tying = Xedge.idxs_tying(idx_sys)[0]\n",
    "    k = Xedge.contraction_factor(idx_sys, idx_tying)\n",
    "    m_trans = matrix([[1, 0], [0, k]])\n",
    "\n",
    "    Xvert = Xedge.apply_matrix(m_norm**-1 * m_trans).make_delaunay()\n",
    "    # tilting one side horizontal\n",
    "    v, w = Xvert.triangles[5][1], Xvert.triangles[1][1]\n",
    "    J = matrix(AA, [[0, -1], [1, 0]])\n",
    "    m = matrix(AA, [-J*(v + w), v + w]).T.inverse()\n",
    "    return Xvert.apply_matrix(m)"
   ]
  },
  {
   "cell_type": "code",
   "execution_count": 10,
   "metadata": {},
   "outputs": [
    {
     "name": "stdout",
     "output_type": "stream",
     "text": [
      "starting\n",
      " \n",
      "*** Profile stats marshalled to file 'temp.dat'. \n"
     ]
    }
   ],
   "source": [
    "def main():\n",
    "    X = double_pentagon()\n",
    "    print(\"starting\")\n",
    "    verts = explore_spine(X, 6)\n",
    "\n",
    "%prun -D temp.dat main()"
   ]
  }
 ],
 "metadata": {
  "interpreter": {
   "hash": "b64057e63add2b45b1ffc7eab9b09c8889b419c878e2fdf0d08f837f0fc857a7"
  },
  "kernelspec": {
   "display_name": "SageMath 9.5",
   "language": "sage",
   "name": "sagemath-9.5"
  },
  "language_info": {
   "codemirror_mode": {
    "name": "ipython",
    "version": 3
   },
   "file_extension": ".py",
   "mimetype": "text/x-python",
   "name": "python",
   "nbconvert_exporter": "python",
   "pygments_lexer": "ipython3",
   "version": "3.9.9"
  }
 },
 "nbformat": 4,
 "nbformat_minor": 4
}
