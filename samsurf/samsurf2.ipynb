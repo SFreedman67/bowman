{
 "cells": [
  {
   "cell_type": "code",
   "execution_count": 24,
   "metadata": {},
   "outputs": [],
   "source": [
    "from samsurf2 import TV"
   ]
  },
  {
   "cell_type": "code",
   "execution_count": 25,
   "metadata": {
    "scrolled": true
   },
   "outputs": [
    {
     "data": {
      "image/png": "[encoded data removed]",
      "text/plain": [
       "Graphics object consisting of 3 graphics primitives"
      ]
     },
     "metadata": {},
     "output_type": "display_data"
    }
   ],
   "source": [
    "def main():\n",
    "    w = 8\n",
    "    e = 1\n",
    "    x = TV.prym2(w, e)\n",
    "    k.<a> = x.field\n",
    "    lmbd = (1 + a)/2\n",
    "\n",
    "\n",
    "    a1 = x.flow(1, vector(x.field, [2 - lmbd/2, 0]), m=k(2/w), color='red')\n",
    "    a2 = x.flow(0, vector(x.field, [lmbd/2, 0]), m=k(2/w), color='green')\n",
    "    b1 = x.flow(1, vector(x.field, [1/2*(w - 2*lmbd), 0]), m=1/lmbd, color='orange')\n",
    "    b2 = x.flow(0, vector(x.field, [4 - lmbd/2, 0]), m=1/lmbd, color='blue')\n",
    "    x.plot(segments=a1+b1+a2+b2)\n",
    "\n",
    "    segs_h = x.decompose(2/w, color='red')\n",
    "    segs_v = x.decompose(1/lmbd, color='blue')\n",
    "    x.plot().show(ymax=1)\n",
    "    \n",
    "main()"
   ]
  }
 ],
 "metadata": {
  "kernelspec": {
   "display_name": "SageMath 9.5",
   "language": "sage",
   "name": "sagemath-9.5"
  },
  "language_info": {
   "codemirror_mode": {
    "name": "ipython",
    "version": 3
   },
   "file_extension": ".py",
   "mimetype": "text/x-python",
   "name": "python",
   "nbconvert_exporter": "python",
   "pygments_lexer": "ipython3",
   "version": "3.9.9"
  }
 },
 "nbformat": 4,
 "nbformat_minor": 2
}
