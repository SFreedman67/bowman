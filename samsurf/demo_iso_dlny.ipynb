{
 "cells": [
  {
   "cell_type": "markdown",
   "metadata": {
    "collapsed": false
   },
   "source": [
    "### TODO\n",
    "\n",
    "- Define an interface for `halfplane`.\n",
    "- Implement codes in libflatsurf.\n"
   ]
  },
  {
   "cell_type": "code",
   "execution_count": 4,
   "metadata": {
    "collapsed": false
   },
   "outputs": [
   ],
   "source": [
    "from flatsurf import *"
   ]
  },
  {
   "cell_type": "code",
   "execution_count": 5,
   "metadata": {
    "collapsed": false
   },
   "outputs": [
   ],
   "source": [
    "s = translation_surfaces.regular_octagon()"
   ]
  },
  {
   "cell_type": "code",
   "execution_count": 7,
   "metadata": {
    "collapsed": false
   },
   "outputs": [
   ],
   "source": [
    "t = s.delaunay_triangulation()"
   ]
  },
  {
   "cell_type": "code",
   "execution_count": 10,
   "metadata": {
    "collapsed": false
   },
   "outputs": [
    {
     "data": {
      "image/png": "[encoded data removed]",
      "text/plain": [
       "Graphics object consisting of 33 graphics primitives"
      ]
     },
     "execution_count": 10,
     "metadata": {
     },
     "output_type": "execute_result"
    }
   ],
   "source": [
    "t.plot()"
   ]
  },
  {
   "cell_type": "code",
   "execution_count": 22,
   "metadata": {
    "collapsed": false
   },
   "outputs": [
    {
     "ename": "AttributeError",
     "evalue": "'NoneType' object has no attribute 'edges'",
     "output_type": "error",
     "traceback": [
      "\u001b[0;31m---------------------------------------------------------------------------\u001b[0m",
      "\u001b[0;31mAttributeError\u001b[0m                            Traceback (most recent call last)",
      "\u001b[0;32m/tmp/ipykernel_977/4003834380.py\u001b[0m in \u001b[0;36m<module>\u001b[0;34m\u001b[0m\n\u001b[1;32m     21\u001b[0m            \u001b[0;32mfor\u001b[0m \u001b[0;34m(\u001b[0m\u001b[0mhinge\u001b[0m\u001b[0;34m,\u001b[0m \u001b[0mhalfplane\u001b[0m\u001b[0;34m)\u001b[0m \u001b[0;32min\u001b[0m \u001b[0mhalfplanes\u001b[0m\u001b[0;34m\u001b[0m\u001b[0;34m\u001b[0m\u001b[0m\n\u001b[1;32m     22\u001b[0m            if halfplane in polygon.boundary()]\n\u001b[0;32m---> 23\u001b[0;31m     \u001b[0;32mfor\u001b[0m \u001b[0mhyperbolic_edge\u001b[0m \u001b[0;32min\u001b[0m \u001b[0mpolygon\u001b[0m\u001b[0;34m.\u001b[0m\u001b[0medges\u001b[0m\u001b[0;34m(\u001b[0m\u001b[0;34m)\u001b[0m\u001b[0;34m\u001b[0m\u001b[0;34m\u001b[0m\u001b[0m\n\u001b[0m\u001b[1;32m     24\u001b[0m }\n",
      "\u001b[0;31mAttributeError\u001b[0m: 'NoneType' object has no attribute 'edges'"
     ]
    }
   ],
   "source": [
    "# Things that go into constructing an IsoDelaunayRegion\n",
    "class IsoDelaunayTesselation:\n",
    "    @classmethod\n",
    "    def local_delaunay_halfplane(cls, H, edge, triangulation): pass\n",
    "\n",
    "class HyperbolicPlane:\n",
    "    def __init__(self, base_ring): pass\n",
    "    def intersection(self, subsets): pass\n",
    "\n",
    "H = HyperbolicPlane(t.base_ring())\n",
    "\n",
    "halfplanes = [(hinge, IsoDelaunayTesselation.local_delaunay_halfplane(H, hinge, t))\n",
    "              for hinge in t.edge_iterator()\n",
    "              if t.triangle_flip(*hinge, test=True)]\n",
    "\n",
    "polygon = H.intersection([halfplane for (hinge, halfplane) in halfplanes])\n",
    "\n",
    "# TODO: Should be done more efficiently.\n",
    "hyperbolic_edge_to_hinges = {\n",
    "    hyperbolic_edge: [hinge\n",
    "           for (hinge, halfplane) in halfplanes\n",
    "           if halfplane in polygon.boundary()]\n",
    "    for hyperbolic_edge in polygon.edges()\n",
    "}"
   ]
  },
  {
   "cell_type": "code",
   "execution_count": 23,
   "metadata": {
    "collapsed": false
   },
   "outputs": [
    {
     "ename": "AttributeError",
     "evalue": "'NoneType' object has no attribute 'edges'",
     "output_type": "error",
     "traceback": [
      "\u001b[0;31m---------------------------------------------------------------------------\u001b[0m",
      "\u001b[0;31mAttributeError\u001b[0m                            Traceback (most recent call last)",
      "\u001b[0;32m/tmp/ipykernel_977/3897571088.py\u001b[0m in \u001b[0;36m<module>\u001b[0;34m\u001b[0m\n\u001b[1;32m      1\u001b[0m \u001b[0;31m# Things that go into face()\u001b[0m\u001b[0;34m\u001b[0m\u001b[0;34m\u001b[0m\u001b[0m\n\u001b[0;32m----> 2\u001b[0;31m \u001b[0mhyperbolic_edge\u001b[0m \u001b[0;34m=\u001b[0m \u001b[0mpolygon\u001b[0m\u001b[0;34m.\u001b[0m\u001b[0medges\u001b[0m\u001b[0;34m(\u001b[0m\u001b[0;34m)\u001b[0m\u001b[0;34m[\u001b[0m\u001b[0mInteger\u001b[0m\u001b[0;34m(\u001b[0m\u001b[0;36m0\u001b[0m\u001b[0;34m)\u001b[0m\u001b[0;34m]\u001b[0m\u001b[0;34m\u001b[0m\u001b[0;34m\u001b[0m\u001b[0m\n\u001b[0m\u001b[1;32m      3\u001b[0m \u001b[0;34m\u001b[0m\u001b[0m\n\u001b[1;32m      4\u001b[0m \u001b[0mcross\u001b[0m \u001b[0;34m=\u001b[0m \u001b[0mt\u001b[0m\u001b[0;34m.\u001b[0m\u001b[0mcopy\u001b[0m\u001b[0;34m(\u001b[0m\u001b[0;34m)\u001b[0m\u001b[0;34m\u001b[0m\u001b[0;34m\u001b[0m\u001b[0m\n\u001b[1;32m      5\u001b[0m \u001b[0;32mfor\u001b[0m \u001b[0mhinge\u001b[0m \u001b[0;32min\u001b[0m \u001b[0mhyperbolic_edge_to_hinges\u001b[0m\u001b[0;34m[\u001b[0m\u001b[0mhyperbolic_edge\u001b[0m\u001b[0;34m]\u001b[0m\u001b[0;34m:\u001b[0m\u001b[0;34m\u001b[0m\u001b[0;34m\u001b[0m\u001b[0m\n",
      "\u001b[0;31mAttributeError\u001b[0m: 'NoneType' object has no attribute 'edges'"
     ]
    }
   ],
   "source": [
    "# Things that go into face()\n",
    "hyperbolic_edge = polygon.edges()[0]\n",
    "\n",
    "cross = t.copy()\n",
    "for hinge in hyperbolic_edge_to_hinges[hyperbolic_edge]:\n",
    "    cross.triangel_flip(*hinge, in_place=True)\n",
    "\n",
    "# Run IDR algorithm from above to build the next polygon."
   ]
  },
  {
   "cell_type": "code",
   "execution_count": 20,
   "metadata": {
    "collapsed": false
   },
   "outputs": [
   ],
   "source": [
    "# Finding (self-)similarities\n",
    "\n",
    "# TODO:\n",
    "# Count the automorphisms using codes; the resulting group is finite cyclic so generated by a rotation.\n",
    "# Determine existence of isomorphism using codes; find one isomorphism, ideally using codes."
   ]
  }
 ],
 "metadata": {
  "kernelspec": {
   "display_name": "SageMath 9.5",
   "language": "sagemath",
   "metadata": {
    "cocalc": {
     "description": "Open-source mathematical software system",
     "priority": 10,
     "url": "https://www.sagemath.org/"
    }
   },
   "name": "sage-9.5",
   "resource_dir": "/ext/jupyter/kernels/sage-9.5"
  },
  "language_info": {
   "codemirror_mode": {
    "name": "ipython",
    "version": 3
   },
   "file_extension": ".py",
   "mimetype": "text/x-python",
   "name": "python",
   "nbconvert_exporter": "python",
   "pygments_lexer": "ipython3",
   "version": "3.9.9"
  }
 },
 "nbformat": 4,
 "nbformat_minor": 4
}